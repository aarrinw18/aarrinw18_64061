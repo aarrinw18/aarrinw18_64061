{
  "nbformat": 4,
  "nbformat_minor": 0,
  "metadata": {
    "colab": {
      "provenance": []
    },
    "kernelspec": {
      "name": "python3",
      "display_name": "Python 3"
    },
    "language_info": {
      "name": "python"
    }
  },
  "cells": [
    {
      "cell_type": "code",
      "execution_count": 1,
      "metadata": {
        "colab": {
          "base_uri": "https://localhost:8080/"
        },
        "id": "1g_aNI-SoOVh",
        "outputId": "a38fcaa0-7da1-47ef-a93e-24520a933ae6"
      },
      "outputs": [
        {
          "output_type": "stream",
          "name": "stdout",
          "text": [
            "Downloading data from https://storage.googleapis.com/tensorflow/tf-keras-datasets/imdb.npz\n",
            "\u001b[1m17464789/17464789\u001b[0m \u001b[32m━━━━━━━━━━━━━━━━━━━━\u001b[0m\u001b[37m\u001b[0m \u001b[1m0s\u001b[0m 0us/step\n"
          ]
        }
      ],
      "source": [
        "#First load the IMDB dataset with only the top 10,000 most frequent words\n",
        "\n",
        "from tensorflow.keras.datasets import imdb\n",
        "(train_data, train_labels), (test_data, test_labels) = imdb.load_data(num_words=10000)"
      ]
    },
    {
      "cell_type": "code",
      "source": [
        "train_data[0]\n",
        "train_labels[0]\n",
        "max([max(sequence) for sequence in train_data])"
      ],
      "metadata": {
        "colab": {
          "base_uri": "https://localhost:8080/"
        },
        "id": "QhQlRNmx7cJk",
        "outputId": "90c3b5fa-738a-41dd-d1db-f3e5f738c93e"
      },
      "execution_count": 2,
      "outputs": [
        {
          "output_type": "execute_result",
          "data": {
            "text/plain": [
              "9999"
            ]
          },
          "metadata": {},
          "execution_count": 2
        }
      ]
    },
    {
      "cell_type": "code",
      "source": [
        "word_index = imdb.get_word_index()\n",
        "reverse_word_index = dict([(value, key) for (key, value) in word_index.items()])\n",
        "decoded_review = \" \".join(\n",
        "    [reverse_word_index.get(i - 3, \"?\") for i in train_data[0]]\n",
        ")\n",
        "decoded_review[:100]"
      ],
      "metadata": {
        "colab": {
          "base_uri": "https://localhost:8080/",
          "height": 70
        },
        "id": "iBbpB6z37iqn",
        "outputId": "3c426ab3-86b2-4328-c7f6-a607fecccecf"
      },
      "execution_count": 3,
      "outputs": [
        {
          "output_type": "stream",
          "name": "stdout",
          "text": [
            "Downloading data from https://storage.googleapis.com/tensorflow/tf-keras-datasets/imdb_word_index.json\n",
            "\u001b[1m1641221/1641221\u001b[0m \u001b[32m━━━━━━━━━━━━━━━━━━━━\u001b[0m\u001b[37m\u001b[0m \u001b[1m0s\u001b[0m 0us/step\n"
          ]
        },
        {
          "output_type": "execute_result",
          "data": {
            "text/plain": [
              "\"? this film was just brilliant casting location scenery story direction everyone's really suited the\""
            ],
            "application/vnd.google.colaboratory.intrinsic+json": {
              "type": "string"
            }
          },
          "metadata": {},
          "execution_count": 3
        }
      ]
    },
    {
      "cell_type": "markdown",
      "source": [
        "#Preparing the data"
      ],
      "metadata": {
        "id": "6igODSHb7puT"
      }
    },
    {
      "cell_type": "code",
      "source": [
        "import numpy as np\n",
        "\n",
        "def multi_hot_encode(sequences, num_classes):\n",
        "    results = np.zeros((len(sequences), num_classes))\n",
        "    for i, sequence in enumerate(sequences):\n",
        "        results[i][sequence] = 1.0\n",
        "    return results\n",
        "\n",
        "x_train = multi_hot_encode(train_data, num_classes=10000)\n",
        "x_test = multi_hot_encode(test_data, num_classes=10000)"
      ],
      "metadata": {
        "id": "r2dT-qDv7tR-"
      },
      "execution_count": 4,
      "outputs": []
    },
    {
      "cell_type": "code",
      "source": [
        "x_train[0]"
      ],
      "metadata": {
        "colab": {
          "base_uri": "https://localhost:8080/"
        },
        "id": "P-iXhl_z7w3k",
        "outputId": "65f0745a-2d49-4066-d839-e2cfccee81ac"
      },
      "execution_count": 5,
      "outputs": [
        {
          "output_type": "execute_result",
          "data": {
            "text/plain": [
              "array([0., 1., 1., ..., 0., 0., 0.])"
            ]
          },
          "metadata": {},
          "execution_count": 5
        }
      ]
    },
    {
      "cell_type": "code",
      "source": [
        "y_train = train_labels.astype(\"float32\")\n",
        "y_test = test_labels.astype(\"float32\")"
      ],
      "metadata": {
        "id": "L0-tBQH57yWd"
      },
      "execution_count": 6,
      "outputs": []
    },
    {
      "cell_type": "markdown",
      "source": [
        "#Building the Model"
      ],
      "metadata": {
        "id": "TkLOTLfE72gt"
      }
    },
    {
      "cell_type": "code",
      "source": [
        "import keras\n",
        "from keras import layers\n",
        "\n",
        "model = keras.Sequential(\n",
        "    [\n",
        "        layers.Dense(16, activation=\"relu\"),\n",
        "        layers.Dense(16, activation=\"relu\"),\n",
        "        layers.Dense(1, activation=\"sigmoid\"),\n",
        "    ]\n",
        ")"
      ],
      "metadata": {
        "id": "9yUh50DJ7512"
      },
      "execution_count": 7,
      "outputs": []
    },
    {
      "cell_type": "code",
      "source": [
        "model.compile(\n",
        "    optimizer=\"adam\",\n",
        "    loss=\"binary_crossentropy\",\n",
        "    metrics=[\"accuracy\"],\n",
        ")"
      ],
      "metadata": {
        "id": "w0KE6nsl7_KR"
      },
      "execution_count": 8,
      "outputs": []
    },
    {
      "cell_type": "markdown",
      "source": [
        "#Validating Your Approach"
      ],
      "metadata": {
        "id": "gndlPYie8Xn9"
      }
    },
    {
      "cell_type": "code",
      "source": [
        "x_val = x_train[:10000]\n",
        "partial_x_train = x_train[10000:]\n",
        "y_val = y_train[:10000]\n",
        "partial_y_train = y_train[10000:]"
      ],
      "metadata": {
        "id": "WguGK1WK8anK"
      },
      "execution_count": 9,
      "outputs": []
    },
    {
      "cell_type": "code",
      "source": [
        "history = model.fit(\n",
        "    partial_x_train,\n",
        "    partial_y_train,\n",
        "    epochs=20,\n",
        "    batch_size=512,\n",
        "    validation_data=(x_val, y_val),\n",
        ")"
      ],
      "metadata": {
        "colab": {
          "base_uri": "https://localhost:8080/"
        },
        "collapsed": true,
        "id": "TPwYQ4J18cpr",
        "outputId": "fd08bd48-8ea4-47c0-aafa-4458c7a1f58d"
      },
      "execution_count": 10,
      "outputs": [
        {
          "output_type": "stream",
          "name": "stdout",
          "text": [
            "Epoch 1/20\n",
            "\u001b[1m30/30\u001b[0m \u001b[32m━━━━━━━━━━━━━━━━━━━━\u001b[0m\u001b[37m\u001b[0m \u001b[1m3s\u001b[0m 67ms/step - accuracy: 0.6929 - loss: 0.6408 - val_accuracy: 0.8486 - val_loss: 0.4570\n",
            "Epoch 2/20\n",
            "\u001b[1m30/30\u001b[0m \u001b[32m━━━━━━━━━━━━━━━━━━━━\u001b[0m\u001b[37m\u001b[0m \u001b[1m1s\u001b[0m 34ms/step - accuracy: 0.8850 - loss: 0.3876 - val_accuracy: 0.8782 - val_loss: 0.3260\n",
            "Epoch 3/20\n",
            "\u001b[1m30/30\u001b[0m \u001b[32m━━━━━━━━━━━━━━━━━━━━\u001b[0m\u001b[37m\u001b[0m \u001b[1m1s\u001b[0m 37ms/step - accuracy: 0.9236 - loss: 0.2488 - val_accuracy: 0.8887 - val_loss: 0.2827\n",
            "Epoch 4/20\n",
            "\u001b[1m30/30\u001b[0m \u001b[32m━━━━━━━━━━━━━━━━━━━━\u001b[0m\u001b[37m\u001b[0m \u001b[1m1s\u001b[0m 37ms/step - accuracy: 0.9466 - loss: 0.1803 - val_accuracy: 0.8875 - val_loss: 0.2763\n",
            "Epoch 5/20\n",
            "\u001b[1m30/30\u001b[0m \u001b[32m━━━━━━━━━━━━━━━━━━━━\u001b[0m\u001b[37m\u001b[0m \u001b[1m1s\u001b[0m 37ms/step - accuracy: 0.9623 - loss: 0.1349 - val_accuracy: 0.8864 - val_loss: 0.2864\n",
            "Epoch 6/20\n",
            "\u001b[1m30/30\u001b[0m \u001b[32m━━━━━━━━━━━━━━━━━━━━\u001b[0m\u001b[37m\u001b[0m \u001b[1m1s\u001b[0m 44ms/step - accuracy: 0.9763 - loss: 0.0967 - val_accuracy: 0.8835 - val_loss: 0.3049\n",
            "Epoch 7/20\n",
            "\u001b[1m30/30\u001b[0m \u001b[32m━━━━━━━━━━━━━━━━━━━━\u001b[0m\u001b[37m\u001b[0m \u001b[1m2s\u001b[0m 58ms/step - accuracy: 0.9808 - loss: 0.0785 - val_accuracy: 0.8803 - val_loss: 0.3334\n",
            "Epoch 8/20\n",
            "\u001b[1m30/30\u001b[0m \u001b[32m━━━━━━━━━━━━━━━━━━━━\u001b[0m\u001b[37m\u001b[0m \u001b[1m1s\u001b[0m 38ms/step - accuracy: 0.9892 - loss: 0.0595 - val_accuracy: 0.8811 - val_loss: 0.3626\n",
            "Epoch 9/20\n",
            "\u001b[1m30/30\u001b[0m \u001b[32m━━━━━━━━━━━━━━━━━━━━\u001b[0m\u001b[37m\u001b[0m \u001b[1m1s\u001b[0m 35ms/step - accuracy: 0.9918 - loss: 0.0474 - val_accuracy: 0.8795 - val_loss: 0.3887\n",
            "Epoch 10/20\n",
            "\u001b[1m30/30\u001b[0m \u001b[32m━━━━━━━━━━━━━━━━━━━━\u001b[0m\u001b[37m\u001b[0m \u001b[1m1s\u001b[0m 35ms/step - accuracy: 0.9947 - loss: 0.0362 - val_accuracy: 0.8733 - val_loss: 0.4174\n",
            "Epoch 11/20\n",
            "\u001b[1m30/30\u001b[0m \u001b[32m━━━━━━━━━━━━━━━━━━━━\u001b[0m\u001b[37m\u001b[0m \u001b[1m1s\u001b[0m 37ms/step - accuracy: 0.9970 - loss: 0.0272 - val_accuracy: 0.8752 - val_loss: 0.4467\n",
            "Epoch 12/20\n",
            "\u001b[1m30/30\u001b[0m \u001b[32m━━━━━━━━━━━━━━━━━━━━\u001b[0m\u001b[37m\u001b[0m \u001b[1m1s\u001b[0m 35ms/step - accuracy: 0.9988 - loss: 0.0202 - val_accuracy: 0.8709 - val_loss: 0.4720\n",
            "Epoch 13/20\n",
            "\u001b[1m30/30\u001b[0m \u001b[32m━━━━━━━━━━━━━━━━━━━━\u001b[0m\u001b[37m\u001b[0m \u001b[1m1s\u001b[0m 37ms/step - accuracy: 0.9996 - loss: 0.0158 - val_accuracy: 0.8706 - val_loss: 0.5001\n",
            "Epoch 14/20\n",
            "\u001b[1m30/30\u001b[0m \u001b[32m━━━━━━━━━━━━━━━━━━━━\u001b[0m\u001b[37m\u001b[0m \u001b[1m1s\u001b[0m 33ms/step - accuracy: 0.9996 - loss: 0.0133 - val_accuracy: 0.8695 - val_loss: 0.5232\n",
            "Epoch 15/20\n",
            "\u001b[1m30/30\u001b[0m \u001b[32m━━━━━━━━━━━━━━━━━━━━\u001b[0m\u001b[37m\u001b[0m \u001b[1m1s\u001b[0m 34ms/step - accuracy: 1.0000 - loss: 0.0098 - val_accuracy: 0.8686 - val_loss: 0.5480\n",
            "Epoch 16/20\n",
            "\u001b[1m30/30\u001b[0m \u001b[32m━━━━━━━━━━━━━━━━━━━━\u001b[0m\u001b[37m\u001b[0m \u001b[1m1s\u001b[0m 35ms/step - accuracy: 0.9998 - loss: 0.0086 - val_accuracy: 0.8675 - val_loss: 0.5690\n",
            "Epoch 17/20\n",
            "\u001b[1m30/30\u001b[0m \u001b[32m━━━━━━━━━━━━━━━━━━━━\u001b[0m\u001b[37m\u001b[0m \u001b[1m2s\u001b[0m 52ms/step - accuracy: 0.9999 - loss: 0.0072 - val_accuracy: 0.8671 - val_loss: 0.5898\n",
            "Epoch 18/20\n",
            "\u001b[1m30/30\u001b[0m \u001b[32m━━━━━━━━━━━━━━━━━━━━\u001b[0m\u001b[37m\u001b[0m \u001b[1m2s\u001b[0m 52ms/step - accuracy: 0.9997 - loss: 0.0063 - val_accuracy: 0.8661 - val_loss: 0.6087\n",
            "Epoch 19/20\n",
            "\u001b[1m30/30\u001b[0m \u001b[32m━━━━━━━━━━━━━━━━━━━━\u001b[0m\u001b[37m\u001b[0m \u001b[1m1s\u001b[0m 35ms/step - accuracy: 0.9998 - loss: 0.0053 - val_accuracy: 0.8659 - val_loss: 0.6276\n",
            "Epoch 20/20\n",
            "\u001b[1m30/30\u001b[0m \u001b[32m━━━━━━━━━━━━━━━━━━━━\u001b[0m\u001b[37m\u001b[0m \u001b[1m1s\u001b[0m 35ms/step - accuracy: 1.0000 - loss: 0.0044 - val_accuracy: 0.8657 - val_loss: 0.6442\n"
          ]
        }
      ]
    },
    {
      "cell_type": "code",
      "source": [
        "history = model.fit(\n",
        "    x_train,\n",
        "    y_train,\n",
        "    epochs=20,\n",
        "    batch_size=512,\n",
        "    validation_split=0.2,\n",
        ")"
      ],
      "metadata": {
        "colab": {
          "base_uri": "https://localhost:8080/"
        },
        "collapsed": true,
        "id": "zPSXxtZ_8edO",
        "outputId": "cc0af24c-56fa-42f9-f167-91c730d23acd"
      },
      "execution_count": 11,
      "outputs": [
        {
          "output_type": "stream",
          "name": "stdout",
          "text": [
            "Epoch 1/20\n",
            "\u001b[1m40/40\u001b[0m \u001b[32m━━━━━━━━━━━━━━━━━━━━\u001b[0m\u001b[37m\u001b[0m \u001b[1m2s\u001b[0m 44ms/step - accuracy: 0.9333 - loss: 0.2858 - val_accuracy: 0.9754 - val_loss: 0.0835\n",
            "Epoch 2/20\n",
            "\u001b[1m40/40\u001b[0m \u001b[32m━━━━━━━━━━━━━━━━━━━━\u001b[0m\u001b[37m\u001b[0m \u001b[1m2s\u001b[0m 44ms/step - accuracy: 0.9597 - loss: 0.1294 - val_accuracy: 0.9648 - val_loss: 0.1007\n",
            "Epoch 3/20\n",
            "\u001b[1m40/40\u001b[0m \u001b[32m━━━━━━━━━━━━━━━━━━━━\u001b[0m\u001b[37m\u001b[0m \u001b[1m2s\u001b[0m 28ms/step - accuracy: 0.9749 - loss: 0.0918 - val_accuracy: 0.9550 - val_loss: 0.1190\n",
            "Epoch 4/20\n",
            "\u001b[1m40/40\u001b[0m \u001b[32m━━━━━━━━━━━━━━━━━━━━\u001b[0m\u001b[37m\u001b[0m \u001b[1m1s\u001b[0m 29ms/step - accuracy: 0.9864 - loss: 0.0633 - val_accuracy: 0.9482 - val_loss: 0.1356\n",
            "Epoch 5/20\n",
            "\u001b[1m40/40\u001b[0m \u001b[32m━━━━━━━━━━━━━━━━━━━━\u001b[0m\u001b[37m\u001b[0m \u001b[1m1s\u001b[0m 29ms/step - accuracy: 0.9889 - loss: 0.0501 - val_accuracy: 0.9398 - val_loss: 0.1608\n",
            "Epoch 6/20\n",
            "\u001b[1m40/40\u001b[0m \u001b[32m━━━━━━━━━━━━━━━━━━━━\u001b[0m\u001b[37m\u001b[0m \u001b[1m1s\u001b[0m 28ms/step - accuracy: 0.9913 - loss: 0.0435 - val_accuracy: 0.9386 - val_loss: 0.1749\n",
            "Epoch 7/20\n",
            "\u001b[1m40/40\u001b[0m \u001b[32m━━━━━━━━━━━━━━━━━━━━\u001b[0m\u001b[37m\u001b[0m \u001b[1m1s\u001b[0m 33ms/step - accuracy: 0.9945 - loss: 0.0337 - val_accuracy: 0.9340 - val_loss: 0.1962\n",
            "Epoch 8/20\n",
            "\u001b[1m40/40\u001b[0m \u001b[32m━━━━━━━━━━━━━━━━━━━━\u001b[0m\u001b[37m\u001b[0m \u001b[1m6s\u001b[0m 107ms/step - accuracy: 0.9968 - loss: 0.0238 - val_accuracy: 0.9292 - val_loss: 0.2183\n",
            "Epoch 9/20\n",
            "\u001b[1m40/40\u001b[0m \u001b[32m━━━━━━━━━━━━━━━━━━━━\u001b[0m\u001b[37m\u001b[0m \u001b[1m3s\u001b[0m 52ms/step - accuracy: 0.9977 - loss: 0.0194 - val_accuracy: 0.9276 - val_loss: 0.2402\n",
            "Epoch 10/20\n",
            "\u001b[1m40/40\u001b[0m \u001b[32m━━━━━━━━━━━━━━━━━━━━\u001b[0m\u001b[37m\u001b[0m \u001b[1m1s\u001b[0m 36ms/step - accuracy: 0.9988 - loss: 0.0134 - val_accuracy: 0.9284 - val_loss: 0.2567\n",
            "Epoch 11/20\n",
            "\u001b[1m40/40\u001b[0m \u001b[32m━━━━━━━━━━━━━━━━━━━━\u001b[0m\u001b[37m\u001b[0m \u001b[1m3s\u001b[0m 36ms/step - accuracy: 0.9995 - loss: 0.0102 - val_accuracy: 0.9256 - val_loss: 0.2784\n",
            "Epoch 12/20\n",
            "\u001b[1m40/40\u001b[0m \u001b[32m━━━━━━━━━━━━━━━━━━━━\u001b[0m\u001b[37m\u001b[0m \u001b[1m1s\u001b[0m 32ms/step - accuracy: 0.9997 - loss: 0.0086 - val_accuracy: 0.9266 - val_loss: 0.2960\n",
            "Epoch 13/20\n",
            "\u001b[1m40/40\u001b[0m \u001b[32m━━━━━━━━━━━━━━━━━━━━\u001b[0m\u001b[37m\u001b[0m \u001b[1m1s\u001b[0m 30ms/step - accuracy: 0.9999 - loss: 0.0066 - val_accuracy: 0.9256 - val_loss: 0.3117\n",
            "Epoch 14/20\n",
            "\u001b[1m40/40\u001b[0m \u001b[32m━━━━━━━━━━━━━━━━━━━━\u001b[0m\u001b[37m\u001b[0m \u001b[1m1s\u001b[0m 28ms/step - accuracy: 0.9999 - loss: 0.0053 - val_accuracy: 0.9238 - val_loss: 0.3267\n",
            "Epoch 15/20\n",
            "\u001b[1m40/40\u001b[0m \u001b[32m━━━━━━━━━━━━━━━━━━━━\u001b[0m\u001b[37m\u001b[0m \u001b[1m1s\u001b[0m 32ms/step - accuracy: 1.0000 - loss: 0.0043 - val_accuracy: 0.9236 - val_loss: 0.3413\n",
            "Epoch 16/20\n",
            "\u001b[1m40/40\u001b[0m \u001b[32m━━━━━━━━━━━━━━━━━━━━\u001b[0m\u001b[37m\u001b[0m \u001b[1m2s\u001b[0m 48ms/step - accuracy: 0.9999 - loss: 0.0039 - val_accuracy: 0.9220 - val_loss: 0.3557\n",
            "Epoch 17/20\n",
            "\u001b[1m40/40\u001b[0m \u001b[32m━━━━━━━━━━━━━━━━━━━━\u001b[0m\u001b[37m\u001b[0m \u001b[1m2s\u001b[0m 30ms/step - accuracy: 0.9999 - loss: 0.0032 - val_accuracy: 0.9212 - val_loss: 0.3680\n",
            "Epoch 18/20\n",
            "\u001b[1m40/40\u001b[0m \u001b[32m━━━━━━━━━━━━━━━━━━━━\u001b[0m\u001b[37m\u001b[0m \u001b[1m1s\u001b[0m 31ms/step - accuracy: 1.0000 - loss: 0.0025 - val_accuracy: 0.9208 - val_loss: 0.3787\n",
            "Epoch 19/20\n",
            "\u001b[1m40/40\u001b[0m \u001b[32m━━━━━━━━━━━━━━━━━━━━\u001b[0m\u001b[37m\u001b[0m \u001b[1m1s\u001b[0m 31ms/step - accuracy: 1.0000 - loss: 0.0023 - val_accuracy: 0.9200 - val_loss: 0.3891\n",
            "Epoch 20/20\n",
            "\u001b[1m40/40\u001b[0m \u001b[32m━━━━━━━━━━━━━━━━━━━━\u001b[0m\u001b[37m\u001b[0m \u001b[1m1s\u001b[0m 30ms/step - accuracy: 1.0000 - loss: 0.0021 - val_accuracy: 0.9202 - val_loss: 0.4003\n"
          ]
        }
      ]
    },
    {
      "cell_type": "code",
      "source": [
        "history_dict = history.history\n",
        "history_dict.keys()"
      ],
      "metadata": {
        "colab": {
          "base_uri": "https://localhost:8080/"
        },
        "id": "_Rn3WR398ieR",
        "outputId": "3fa10d0b-e446-4af6-8e2a-26ca011de3ad"
      },
      "execution_count": 12,
      "outputs": [
        {
          "output_type": "execute_result",
          "data": {
            "text/plain": [
              "dict_keys(['accuracy', 'loss', 'val_accuracy', 'val_loss'])"
            ]
          },
          "metadata": {},
          "execution_count": 12
        }
      ]
    },
    {
      "cell_type": "code",
      "source": [
        "import matplotlib.pyplot as plt\n",
        "\n",
        "history_dict = history.history\n",
        "loss_values = history_dict[\"loss\"]\n",
        "val_loss_values = history_dict[\"val_loss\"]\n",
        "epochs = range(1, len(loss_values) + 1)\n",
        "plt.plot(epochs, loss_values, \"r--\", label=\"Training loss\")\n",
        "plt.plot(epochs, val_loss_values, \"b\", label=\"Validation loss\")\n",
        "plt.title(\"[IMDB] Training and validation loss\")\n",
        "plt.xlabel(\"Epochs\")\n",
        "plt.xticks(epochs)\n",
        "plt.ylabel(\"Loss\")\n",
        "plt.legend()\n",
        "plt.show()"
      ],
      "metadata": {
        "colab": {
          "base_uri": "https://localhost:8080/",
          "height": 472
        },
        "id": "AlU2l1qa8kTc",
        "outputId": "7364be96-b874-42ab-f716-b26a41c298a3"
      },
      "execution_count": 13,
      "outputs": [
        {
          "output_type": "display_data",
          "data": {
            "text/plain": [
              "<Figure size 640x480 with 1 Axes>"
            ],
            "image/png": "[encoded data removed]"
          },
          "metadata": {}
        }
      ]
    },
    {
      "cell_type": "code",
      "source": [
        "plt.clf()\n",
        "acc = history_dict[\"accuracy\"]\n",
        "val_acc = history_dict[\"val_accuracy\"]\n",
        "plt.plot(epochs, acc, \"r--\", label=\"Training acc\")\n",
        "plt.plot(epochs, val_acc, \"b\", label=\"Validation acc\")\n",
        "plt.title(\"[IMDB] Training and validation accuracy\")\n",
        "plt.xlabel(\"Epochs\")\n",
        "plt.xticks(epochs)\n",
        "plt.ylabel(\"Accuracy\")\n",
        "plt.legend()\n",
        "plt.show()"
      ],
      "metadata": {
        "colab": {
          "base_uri": "https://localhost:8080/",
          "height": 472
        },
        "id": "Mnhvg1p68maz",
        "outputId": "aa7eb7ec-1f27-4663-8af4-1c7c33e1379a"
      },
      "execution_count": 14,
      "outputs": [
        {
          "output_type": "display_data",
          "data": {
            "text/plain": [
              "<Figure size 640x480 with 1 Axes>"
            ],
            "image/png": "[encoded data removed]"
          },
          "metadata": {}
        }
      ]
    },
    {
      "cell_type": "code",
      "source": [
        "model = keras.Sequential(\n",
        "    [\n",
        "        layers.Dense(16, activation=\"relu\"),\n",
        "        layers.Dense(16, activation=\"relu\"),\n",
        "        layers.Dense(1, activation=\"sigmoid\"),\n",
        "    ]\n",
        ")\n",
        "model.compile(\n",
        "    optimizer=\"adam\",\n",
        "    loss=\"binary_crossentropy\",\n",
        "    metrics=[\"accuracy\"],\n",
        ")\n",
        "model.fit(x_train, y_train, epochs=4, batch_size=512)\n",
        "results = model.evaluate(x_test, y_test)"
      ],
      "metadata": {
        "colab": {
          "base_uri": "https://localhost:8080/"
        },
        "id": "_SoOv2or8n3z",
        "outputId": "857d126d-0cc1-4851-dcb5-34ea901a50a9"
      },
      "execution_count": 15,
      "outputs": [
        {
          "output_type": "stream",
          "name": "stdout",
          "text": [
            "Epoch 1/4\n",
            "\u001b[1m49/49\u001b[0m \u001b[32m━━━━━━━━━━━━━━━━━━━━\u001b[0m\u001b[37m\u001b[0m \u001b[1m3s\u001b[0m 27ms/step - accuracy: 0.7382 - loss: 0.5870\n",
            "Epoch 2/4\n",
            "\u001b[1m49/49\u001b[0m \u001b[32m━━━━━━━━━━━━━━━━━━━━\u001b[0m\u001b[37m\u001b[0m \u001b[1m3s\u001b[0m 27ms/step - accuracy: 0.9092 - loss: 0.2683\n",
            "Epoch 3/4\n",
            "\u001b[1m49/49\u001b[0m \u001b[32m━━━━━━━━━━━━━━━━━━━━\u001b[0m\u001b[37m\u001b[0m \u001b[1m1s\u001b[0m 26ms/step - accuracy: 0.9335 - loss: 0.1887\n",
            "Epoch 4/4\n",
            "\u001b[1m49/49\u001b[0m \u001b[32m━━━━━━━━━━━━━━━━━━━━\u001b[0m\u001b[37m\u001b[0m \u001b[1m4s\u001b[0m 46ms/step - accuracy: 0.9529 - loss: 0.1442\n",
            "\u001b[1m782/782\u001b[0m \u001b[32m━━━━━━━━━━━━━━━━━━━━\u001b[0m\u001b[37m\u001b[0m \u001b[1m2s\u001b[0m 3ms/step - accuracy: 0.8791 - loss: 0.3071\n"
          ]
        }
      ]
    },
    {
      "cell_type": "code",
      "source": [
        "results"
      ],
      "metadata": {
        "colab": {
          "base_uri": "https://localhost:8080/"
        },
        "id": "zyNDBMUi8pt3",
        "outputId": "f10cee63-3d12-4a3e-fecf-bc306e788595"
      },
      "execution_count": 16,
      "outputs": [
        {
          "output_type": "execute_result",
          "data": {
            "text/plain": [
              "[0.3050103783607483, 0.8816800117492676]"
            ]
          },
          "metadata": {},
          "execution_count": 16
        }
      ]
    },
    {
      "cell_type": "markdown",
      "source": [],
      "metadata": {
        "id": "Ivo6TBXgFXPS"
      }
    },
    {
      "cell_type": "markdown",
      "source": [
        "#Cell A — 1 hidden layer (16 units, ReLU, BCE)"
      ],
      "metadata": {
        "id": "xI-pwDOTFwAu"
      }
    },
    {
      "cell_type": "code",
      "source": [
        "#1 hidden layer (vs original 2 hidden layers)\n",
        "import keras\n",
        "from keras import layers\n",
        "import numpy as np\n",
        "\n",
        "model = keras.Sequential(\n",
        "    [\n",
        "        layers.Dense(16, activation=\"relu\", input_shape=(x_train.shape[1],)),\n",
        "        layers.Dense(1, activation=\"sigmoid\"),\n",
        "    ]\n",
        ")\n",
        "model.compile(optimizer=\"adam\", loss=\"binary_crossentropy\", metrics=[\"accuracy\"])\n",
        "\n",
        "history_L1 = model.fit(\n",
        "    x_train, y_train, epochs=20, batch_size=512, validation_split=0.2, verbose=1\n",
        ")\n",
        "\n",
        "val_acc = max(history_L1.history[\"val_accuracy\"])\n",
        "test_loss, test_acc = model.evaluate(x_test, y_test, verbose=0)\n",
        "print(f\"[Layers=1] best Val Acc={val_acc:.4f} | Test Acc={test_acc:.4f}\")"
      ],
      "metadata": {
        "colab": {
          "base_uri": "https://localhost:8080/"
        },
        "id": "ONrgWe-5F06v",
        "outputId": "4ae12bf0-9424-4e83-a732-a3cb68db28c6"
      },
      "execution_count": 17,
      "outputs": [
        {
          "output_type": "stream",
          "name": "stderr",
          "text": [
            "/usr/local/lib/python3.12/dist-packages/keras/src/layers/core/dense.py:93: UserWarning: Do not pass an `input_shape`/`input_dim` argument to a layer. When using Sequential models, prefer using an `Input(shape)` object as the first layer in the model instead.\n",
            "  super().__init__(activity_regularizer=activity_regularizer, **kwargs)\n"
          ]
        },
        {
          "output_type": "stream",
          "name": "stdout",
          "text": [
            "Epoch 1/20\n",
            "\u001b[1m40/40\u001b[0m \u001b[32m━━━━━━━━━━━━━━━━━━━━\u001b[0m\u001b[37m\u001b[0m \u001b[1m3s\u001b[0m 52ms/step - accuracy: 0.7128 - loss: 0.5924 - val_accuracy: 0.8664 - val_loss: 0.3600\n",
            "Epoch 2/20\n",
            "\u001b[1m40/40\u001b[0m \u001b[32m━━━━━━━━━━━━━━━━━━━━\u001b[0m\u001b[37m\u001b[0m \u001b[1m1s\u001b[0m 34ms/step - accuracy: 0.9021 - loss: 0.2978 - val_accuracy: 0.8908 - val_loss: 0.2950\n",
            "Epoch 3/20\n",
            "\u001b[1m40/40\u001b[0m \u001b[32m━━━━━━━━━━━━━━━━━━━━\u001b[0m\u001b[37m\u001b[0m \u001b[1m2s\u001b[0m 46ms/step - accuracy: 0.9285 - loss: 0.2275 - val_accuracy: 0.8934 - val_loss: 0.2777\n",
            "Epoch 4/20\n",
            "\u001b[1m40/40\u001b[0m \u001b[32m━━━━━━━━━━━━━━━━━━━━\u001b[0m\u001b[37m\u001b[0m \u001b[1m2s\u001b[0m 51ms/step - accuracy: 0.9404 - loss: 0.1903 - val_accuracy: 0.8926 - val_loss: 0.2733\n",
            "Epoch 5/20\n",
            "\u001b[1m40/40\u001b[0m \u001b[32m━━━━━━━━━━━━━━━━━━━━\u001b[0m\u001b[37m\u001b[0m \u001b[1m4s\u001b[0m 95ms/step - accuracy: 0.9500 - loss: 0.1623 - val_accuracy: 0.8944 - val_loss: 0.2738\n",
            "Epoch 6/20\n",
            "\u001b[1m40/40\u001b[0m \u001b[32m━━━━━━━━━━━━━━━━━━━━\u001b[0m\u001b[37m\u001b[0m \u001b[1m2s\u001b[0m 40ms/step - accuracy: 0.9577 - loss: 0.1406 - val_accuracy: 0.8884 - val_loss: 0.2797\n",
            "Epoch 7/20\n",
            "\u001b[1m40/40\u001b[0m \u001b[32m━━━━━━━━━━━━━━━━━━━━\u001b[0m\u001b[37m\u001b[0m \u001b[1m2s\u001b[0m 32ms/step - accuracy: 0.9650 - loss: 0.1267 - val_accuracy: 0.8882 - val_loss: 0.2865\n",
            "Epoch 8/20\n",
            "\u001b[1m40/40\u001b[0m \u001b[32m━━━━━━━━━━━━━━━━━━━━\u001b[0m\u001b[37m\u001b[0m \u001b[1m1s\u001b[0m 30ms/step - accuracy: 0.9718 - loss: 0.1087 - val_accuracy: 0.8854 - val_loss: 0.2946\n",
            "Epoch 9/20\n",
            "\u001b[1m40/40\u001b[0m \u001b[32m━━━━━━━━━━━━━━━━━━━━\u001b[0m\u001b[37m\u001b[0m \u001b[1m1s\u001b[0m 30ms/step - accuracy: 0.9754 - loss: 0.0995 - val_accuracy: 0.8848 - val_loss: 0.3052\n",
            "Epoch 10/20\n",
            "\u001b[1m40/40\u001b[0m \u001b[32m━━━━━━━━━━━━━━━━━━━━\u001b[0m\u001b[37m\u001b[0m \u001b[1m1s\u001b[0m 30ms/step - accuracy: 0.9769 - loss: 0.0904 - val_accuracy: 0.8832 - val_loss: 0.3162\n",
            "Epoch 11/20\n",
            "\u001b[1m40/40\u001b[0m \u001b[32m━━━━━━━━━━━━━━━━━━━━\u001b[0m\u001b[37m\u001b[0m \u001b[1m1s\u001b[0m 30ms/step - accuracy: 0.9812 - loss: 0.0814 - val_accuracy: 0.8814 - val_loss: 0.3276\n",
            "Epoch 12/20\n",
            "\u001b[1m40/40\u001b[0m \u001b[32m━━━━━━━━━━━━━━━━━━━━\u001b[0m\u001b[37m\u001b[0m \u001b[1m2s\u001b[0m 42ms/step - accuracy: 0.9833 - loss: 0.0751 - val_accuracy: 0.8792 - val_loss: 0.3401\n",
            "Epoch 13/20\n",
            "\u001b[1m40/40\u001b[0m \u001b[32m━━━━━━━━━━━━━━━━━━━━\u001b[0m\u001b[37m\u001b[0m \u001b[1m2s\u001b[0m 45ms/step - accuracy: 0.9865 - loss: 0.0668 - val_accuracy: 0.8784 - val_loss: 0.3534\n",
            "Epoch 14/20\n",
            "\u001b[1m40/40\u001b[0m \u001b[32m━━━━━━━━━━━━━━━━━━━━\u001b[0m\u001b[37m\u001b[0m \u001b[1m1s\u001b[0m 28ms/step - accuracy: 0.9883 - loss: 0.0609 - val_accuracy: 0.8766 - val_loss: 0.3666\n",
            "Epoch 15/20\n",
            "\u001b[1m40/40\u001b[0m \u001b[32m━━━━━━━━━━━━━━━━━━━━\u001b[0m\u001b[37m\u001b[0m \u001b[1m1s\u001b[0m 31ms/step - accuracy: 0.9909 - loss: 0.0557 - val_accuracy: 0.8752 - val_loss: 0.3791\n",
            "Epoch 16/20\n",
            "\u001b[1m40/40\u001b[0m \u001b[32m━━━━━━━━━━━━━━━━━━━━\u001b[0m\u001b[37m\u001b[0m \u001b[1m2s\u001b[0m 28ms/step - accuracy: 0.9917 - loss: 0.0503 - val_accuracy: 0.8748 - val_loss: 0.3931\n",
            "Epoch 17/20\n",
            "\u001b[1m40/40\u001b[0m \u001b[32m━━━━━━━━━━━━━━━━━━━━\u001b[0m\u001b[37m\u001b[0m \u001b[1m1s\u001b[0m 29ms/step - accuracy: 0.9943 - loss: 0.0450 - val_accuracy: 0.8742 - val_loss: 0.4090\n",
            "Epoch 18/20\n",
            "\u001b[1m40/40\u001b[0m \u001b[32m━━━━━━━━━━━━━━━━━━━━\u001b[0m\u001b[37m\u001b[0m \u001b[1m1s\u001b[0m 32ms/step - accuracy: 0.9938 - loss: 0.0432 - val_accuracy: 0.8748 - val_loss: 0.4211\n",
            "Epoch 19/20\n",
            "\u001b[1m40/40\u001b[0m \u001b[32m━━━━━━━━━━━━━━━━━━━━\u001b[0m\u001b[37m\u001b[0m \u001b[1m1s\u001b[0m 30ms/step - accuracy: 0.9955 - loss: 0.0382 - val_accuracy: 0.8738 - val_loss: 0.4343\n",
            "Epoch 20/20\n",
            "\u001b[1m40/40\u001b[0m \u001b[32m━━━━━━━━━━━━━━━━━━━━\u001b[0m\u001b[37m\u001b[0m \u001b[1m1s\u001b[0m 33ms/step - accuracy: 0.9958 - loss: 0.0353 - val_accuracy: 0.8716 - val_loss: 0.4455\n",
            "[Layers=1] best Val Acc=0.8944 | Test Acc=0.8602\n"
          ]
        }
      ]
    },
    {
      "cell_type": "markdown",
      "source": [
        "Single hidden layer (16 units) performed a bit below the baseline 2×16 model: best validation accuracy = 0.8944, test accuracy = 0.8602 (~0.88 for the baseline). The small validation–test gap suggests generalization is fine."
      ],
      "metadata": {
        "id": "HoY9LYeIRcej"
      }
    },
    {
      "cell_type": "markdown",
      "source": [
        "#Cell B — 3 hidden layers (16 units each, ReLU, BCE)"
      ],
      "metadata": {
        "id": "i0etHnPjGpUF"
      }
    },
    {
      "cell_type": "code",
      "source": [
        "#3 hidden layers (adds one more Dense(16,\"relu\") to our original model)\n",
        "import keras\n",
        "from keras import layers\n",
        "import numpy as np\n",
        "\n",
        "model = keras.Sequential(\n",
        "    [\n",
        "        layers.Dense(16, activation=\"relu\", input_shape=(x_train.shape[1],)),\n",
        "        layers.Dense(16, activation=\"relu\"),\n",
        "        layers.Dense(16, activation=\"relu\"),\n",
        "        layers.Dense(1, activation=\"sigmoid\"),\n",
        "    ]\n",
        ")\n",
        "model.compile(optimizer=\"adam\", loss=\"binary_crossentropy\", metrics=[\"accuracy\"])\n",
        "\n",
        "history_L3 = model.fit(\n",
        "    x_train, y_train, epochs=20, batch_size=512, validation_split=0.2, verbose=1\n",
        ")\n",
        "\n",
        "val_acc = max(history_L3.history[\"val_accuracy\"])\n",
        "test_loss, test_acc = model.evaluate(x_test, y_test, verbose=0)\n",
        "print(f\"[Layers=3] best Val Acc={val_acc:.4f} | Test Acc={test_acc:.4f}\")"
      ],
      "metadata": {
        "colab": {
          "base_uri": "https://localhost:8080/"
        },
        "id": "bxRtcqPtGrsr",
        "outputId": "77e5f708-d69c-4b2d-8285-c1c83112b591"
      },
      "execution_count": 18,
      "outputs": [
        {
          "output_type": "stream",
          "name": "stdout",
          "text": [
            "Epoch 1/20\n",
            "\u001b[1m40/40\u001b[0m \u001b[32m━━━━━━━━━━━━━━━━━━━━\u001b[0m\u001b[37m\u001b[0m \u001b[1m4s\u001b[0m 58ms/step - accuracy: 0.7070 - loss: 0.6117 - val_accuracy: 0.8790 - val_loss: 0.3312\n",
            "Epoch 2/20\n",
            "\u001b[1m40/40\u001b[0m \u001b[32m━━━━━━━━━━━━━━━━━━━━\u001b[0m\u001b[37m\u001b[0m \u001b[1m2s\u001b[0m 35ms/step - accuracy: 0.9100 - loss: 0.2601 - val_accuracy: 0.8882 - val_loss: 0.2769\n",
            "Epoch 3/20\n",
            "\u001b[1m40/40\u001b[0m \u001b[32m━━━━━━━━━━━━━━━━━━━━\u001b[0m\u001b[37m\u001b[0m \u001b[1m2s\u001b[0m 31ms/step - accuracy: 0.9465 - loss: 0.1594 - val_accuracy: 0.8868 - val_loss: 0.3004\n",
            "Epoch 4/20\n",
            "\u001b[1m40/40\u001b[0m \u001b[32m━━━━━━━━━━━━━━━━━━━━\u001b[0m\u001b[37m\u001b[0m \u001b[1m1s\u001b[0m 32ms/step - accuracy: 0.9608 - loss: 0.1173 - val_accuracy: 0.8834 - val_loss: 0.3353\n",
            "Epoch 5/20\n",
            "\u001b[1m40/40\u001b[0m \u001b[32m━━━━━━━━━━━━━━━━━━━━\u001b[0m\u001b[37m\u001b[0m \u001b[1m1s\u001b[0m 30ms/step - accuracy: 0.9770 - loss: 0.0798 - val_accuracy: 0.8768 - val_loss: 0.3786\n",
            "Epoch 6/20\n",
            "\u001b[1m40/40\u001b[0m \u001b[32m━━━━━━━━━━━━━━━━━━━━\u001b[0m\u001b[37m\u001b[0m \u001b[1m1s\u001b[0m 30ms/step - accuracy: 0.9877 - loss: 0.0547 - val_accuracy: 0.8726 - val_loss: 0.4887\n",
            "Epoch 7/20\n",
            "\u001b[1m40/40\u001b[0m \u001b[32m━━━━━━━━━━━━━━━━━━━━\u001b[0m\u001b[37m\u001b[0m \u001b[1m1s\u001b[0m 33ms/step - accuracy: 0.9855 - loss: 0.0529 - val_accuracy: 0.8700 - val_loss: 0.4892\n",
            "Epoch 8/20\n",
            "\u001b[1m40/40\u001b[0m \u001b[32m━━━━━━━━━━━━━━━━━━━━\u001b[0m\u001b[37m\u001b[0m \u001b[1m1s\u001b[0m 31ms/step - accuracy: 0.9930 - loss: 0.0321 - val_accuracy: 0.8730 - val_loss: 0.5425\n",
            "Epoch 9/20\n",
            "\u001b[1m40/40\u001b[0m \u001b[32m━━━━━━━━━━━━━━━━━━━━\u001b[0m\u001b[37m\u001b[0m \u001b[1m2s\u001b[0m 41ms/step - accuracy: 0.9969 - loss: 0.0213 - val_accuracy: 0.8710 - val_loss: 0.5919\n",
            "Epoch 10/20\n",
            "\u001b[1m40/40\u001b[0m \u001b[32m━━━━━━━━━━━━━━━━━━━━\u001b[0m\u001b[37m\u001b[0m \u001b[1m2s\u001b[0m 30ms/step - accuracy: 0.9989 - loss: 0.0130 - val_accuracy: 0.8706 - val_loss: 0.6437\n",
            "Epoch 11/20\n",
            "\u001b[1m40/40\u001b[0m \u001b[32m━━━━━━━━━━━━━━━━━━━━\u001b[0m\u001b[37m\u001b[0m \u001b[1m1s\u001b[0m 29ms/step - accuracy: 0.9995 - loss: 0.0075 - val_accuracy: 0.8704 - val_loss: 0.6844\n",
            "Epoch 12/20\n",
            "\u001b[1m40/40\u001b[0m \u001b[32m━━━━━━━━━━━━━━━━━━━━\u001b[0m\u001b[37m\u001b[0m \u001b[1m1s\u001b[0m 29ms/step - accuracy: 0.9998 - loss: 0.0050 - val_accuracy: 0.8690 - val_loss: 0.7201\n",
            "Epoch 13/20\n",
            "\u001b[1m40/40\u001b[0m \u001b[32m━━━━━━━━━━━━━━━━━━━━\u001b[0m\u001b[37m\u001b[0m \u001b[1m1s\u001b[0m 30ms/step - accuracy: 0.9997 - loss: 0.0039 - val_accuracy: 0.8686 - val_loss: 0.7569\n",
            "Epoch 14/20\n",
            "\u001b[1m40/40\u001b[0m \u001b[32m━━━━━━━━━━━━━━━━━━━━\u001b[0m\u001b[37m\u001b[0m \u001b[1m1s\u001b[0m 28ms/step - accuracy: 0.9999 - loss: 0.0029 - val_accuracy: 0.8686 - val_loss: 0.7900\n",
            "Epoch 15/20\n",
            "\u001b[1m40/40\u001b[0m \u001b[32m━━━━━━━━━━━━━━━━━━━━\u001b[0m\u001b[37m\u001b[0m \u001b[1m1s\u001b[0m 28ms/step - accuracy: 1.0000 - loss: 0.0021 - val_accuracy: 0.8684 - val_loss: 0.8161\n",
            "Epoch 16/20\n",
            "\u001b[1m40/40\u001b[0m \u001b[32m━━━━━━━━━━━━━━━━━━━━\u001b[0m\u001b[37m\u001b[0m \u001b[1m1s\u001b[0m 29ms/step - accuracy: 1.0000 - loss: 0.0017 - val_accuracy: 0.8672 - val_loss: 0.8460\n",
            "Epoch 17/20\n",
            "\u001b[1m40/40\u001b[0m \u001b[32m━━━━━━━━━━━━━━━━━━━━\u001b[0m\u001b[37m\u001b[0m \u001b[1m1s\u001b[0m 29ms/step - accuracy: 1.0000 - loss: 0.0013 - val_accuracy: 0.8692 - val_loss: 0.8642\n",
            "Epoch 18/20\n",
            "\u001b[1m40/40\u001b[0m \u001b[32m━━━━━━━━━━━━━━━━━━━━\u001b[0m\u001b[37m\u001b[0m \u001b[1m2s\u001b[0m 42ms/step - accuracy: 1.0000 - loss: 0.0012 - val_accuracy: 0.8684 - val_loss: 0.8859\n",
            "Epoch 19/20\n",
            "\u001b[1m40/40\u001b[0m \u001b[32m━━━━━━━━━━━━━━━━━━━━\u001b[0m\u001b[37m\u001b[0m \u001b[1m2s\u001b[0m 30ms/step - accuracy: 1.0000 - loss: 9.5752e-04 - val_accuracy: 0.8686 - val_loss: 0.9040\n",
            "Epoch 20/20\n",
            "\u001b[1m40/40\u001b[0m \u001b[32m━━━━━━━━━━━━━━━━━━━━\u001b[0m\u001b[37m\u001b[0m \u001b[1m1s\u001b[0m 28ms/step - accuracy: 1.0000 - loss: 8.5357e-04 - val_accuracy: 0.8676 - val_loss: 0.9225\n",
            "[Layers=3] best Val Acc=0.8882 | Test Acc=0.8548\n"
          ]
        }
      ]
    },
    {
      "cell_type": "markdown",
      "source": [
        "Three hidden layers (16 each) performed a little worse than the baseline 2×16 (~0.88 test), so adding a third layer didn’t help. Best val acc = 0.8882 and test acc = 0.8548; the val–test gap is small, but overall accuracy dropped."
      ],
      "metadata": {
        "id": "1QGtZDh9SO44"
      }
    },
    {
      "cell_type": "markdown",
      "source": [
        "#Cell C — Wider layers (32 units, 2 hidden layers, ReLU, BCE)"
      ],
      "metadata": {
        "id": "j-1osuqfG1uA"
      }
    },
    {
      "cell_type": "code",
      "source": [
        "#2 hidden layers, 32 units each\n",
        "import keras\n",
        "from keras import layers\n",
        "import numpy as np\n",
        "\n",
        "model = keras.Sequential(\n",
        "    [\n",
        "        layers.Dense(32, activation=\"relu\", input_shape=(x_train.shape[1],)),\n",
        "        layers.Dense(32, activation=\"relu\"),\n",
        "        layers.Dense(1, activation=\"sigmoid\"),\n",
        "    ]\n",
        ")\n",
        "model.compile(optimizer=\"adam\", loss=\"binary_crossentropy\", metrics=[\"accuracy\"])\n",
        "\n",
        "history_U32 = model.fit(\n",
        "    x_train, y_train, epochs=20, batch_size=512, validation_split=0.2, verbose=1\n",
        ")\n",
        "\n",
        "val_acc = max(history_U32.history[\"val_accuracy\"])\n",
        "test_loss, test_acc = model.evaluate(x_test, y_test, verbose=0)\n",
        "print(f\"[Units=32] best Val Acc={val_acc:.4f} | Test Acc={test_acc:.4f}\")"
      ],
      "metadata": {
        "colab": {
          "base_uri": "https://localhost:8080/"
        },
        "id": "GBAay6KzG597",
        "outputId": "9762b497-2fbd-497d-a8c0-2fd2099f8a74"
      },
      "execution_count": 19,
      "outputs": [
        {
          "output_type": "stream",
          "name": "stdout",
          "text": [
            "Epoch 1/20\n",
            "\u001b[1m40/40\u001b[0m \u001b[32m━━━━━━━━━━━━━━━━━━━━\u001b[0m\u001b[37m\u001b[0m \u001b[1m3s\u001b[0m 47ms/step - accuracy: 0.7414 - loss: 0.5820 - val_accuracy: 0.8846 - val_loss: 0.3076\n",
            "Epoch 2/20\n",
            "\u001b[1m40/40\u001b[0m \u001b[32m━━━━━━━━━━━━━━━━━━━━\u001b[0m\u001b[37m\u001b[0m \u001b[1m2s\u001b[0m 40ms/step - accuracy: 0.9167 - loss: 0.2333 - val_accuracy: 0.8774 - val_loss: 0.3126\n",
            "Epoch 3/20\n",
            "\u001b[1m40/40\u001b[0m \u001b[32m━━━━━━━━━━━━━━━━━━━━\u001b[0m\u001b[37m\u001b[0m \u001b[1m3s\u001b[0m 39ms/step - accuracy: 0.9396 - loss: 0.1689 - val_accuracy: 0.8896 - val_loss: 0.2895\n",
            "Epoch 4/20\n",
            "\u001b[1m40/40\u001b[0m \u001b[32m━━━━━━━━━━━━━━━━━━━━\u001b[0m\u001b[37m\u001b[0m \u001b[1m3s\u001b[0m 72ms/step - accuracy: 0.9637 - loss: 0.1144 - val_accuracy: 0.8794 - val_loss: 0.3342\n",
            "Epoch 5/20\n",
            "\u001b[1m40/40\u001b[0m \u001b[32m━━━━━━━━━━━━━━━━━━━━\u001b[0m\u001b[37m\u001b[0m \u001b[1m4s\u001b[0m 36ms/step - accuracy: 0.9692 - loss: 0.0955 - val_accuracy: 0.8814 - val_loss: 0.3591\n",
            "Epoch 6/20\n",
            "\u001b[1m40/40\u001b[0m \u001b[32m━━━━━━━━━━━━━━━━━━━━\u001b[0m\u001b[37m\u001b[0m \u001b[1m2s\u001b[0m 39ms/step - accuracy: 0.9828 - loss: 0.0684 - val_accuracy: 0.8784 - val_loss: 0.4019\n",
            "Epoch 7/20\n",
            "\u001b[1m40/40\u001b[0m \u001b[32m━━━━━━━━━━━━━━━━━━━━\u001b[0m\u001b[37m\u001b[0m \u001b[1m2s\u001b[0m 40ms/step - accuracy: 0.9890 - loss: 0.0502 - val_accuracy: 0.8744 - val_loss: 0.4480\n",
            "Epoch 8/20\n",
            "\u001b[1m40/40\u001b[0m \u001b[32m━━━━━━━━━━━━━━━━━━━━\u001b[0m\u001b[37m\u001b[0m \u001b[1m1s\u001b[0m 35ms/step - accuracy: 0.9935 - loss: 0.0363 - val_accuracy: 0.8730 - val_loss: 0.5028\n",
            "Epoch 9/20\n",
            "\u001b[1m40/40\u001b[0m \u001b[32m━━━━━━━━━━━━━━━━━━━━\u001b[0m\u001b[37m\u001b[0m \u001b[1m3s\u001b[0m 46ms/step - accuracy: 0.9962 - loss: 0.0253 - val_accuracy: 0.8702 - val_loss: 0.5492\n",
            "Epoch 10/20\n",
            "\u001b[1m40/40\u001b[0m \u001b[32m━━━━━━━━━━━━━━━━━━━━\u001b[0m\u001b[37m\u001b[0m \u001b[1m3s\u001b[0m 46ms/step - accuracy: 0.9982 - loss: 0.0185 - val_accuracy: 0.8686 - val_loss: 0.6022\n",
            "Epoch 11/20\n",
            "\u001b[1m40/40\u001b[0m \u001b[32m━━━━━━━━━━━━━━━━━━━━\u001b[0m\u001b[37m\u001b[0m \u001b[1m2s\u001b[0m 36ms/step - accuracy: 0.9992 - loss: 0.0123 - val_accuracy: 0.8692 - val_loss: 0.6439\n",
            "Epoch 12/20\n",
            "\u001b[1m40/40\u001b[0m \u001b[32m━━━━━━━━━━━━━━━━━━━━\u001b[0m\u001b[37m\u001b[0m \u001b[1m2s\u001b[0m 40ms/step - accuracy: 0.9999 - loss: 0.0080 - val_accuracy: 0.8698 - val_loss: 0.6820\n",
            "Epoch 13/20\n",
            "\u001b[1m40/40\u001b[0m \u001b[32m━━━━━━━━━━━━━━━━━━━━\u001b[0m\u001b[37m\u001b[0m \u001b[1m2s\u001b[0m 37ms/step - accuracy: 1.0000 - loss: 0.0054 - val_accuracy: 0.8688 - val_loss: 0.7160\n",
            "Epoch 14/20\n",
            "\u001b[1m40/40\u001b[0m \u001b[32m━━━━━━━━━━━━━━━━━━━━\u001b[0m\u001b[37m\u001b[0m \u001b[1m1s\u001b[0m 36ms/step - accuracy: 1.0000 - loss: 0.0040 - val_accuracy: 0.8678 - val_loss: 0.7461\n",
            "Epoch 15/20\n",
            "\u001b[1m40/40\u001b[0m \u001b[32m━━━━━━━━━━━━━━━━━━━━\u001b[0m\u001b[37m\u001b[0m \u001b[1m3s\u001b[0m 42ms/step - accuracy: 1.0000 - loss: 0.0029 - val_accuracy: 0.8670 - val_loss: 0.7698\n",
            "Epoch 16/20\n",
            "\u001b[1m40/40\u001b[0m \u001b[32m━━━━━━━━━━━━━━━━━━━━\u001b[0m\u001b[37m\u001b[0m \u001b[1m2s\u001b[0m 54ms/step - accuracy: 1.0000 - loss: 0.0022 - val_accuracy: 0.8682 - val_loss: 0.7948\n",
            "Epoch 17/20\n",
            "\u001b[1m40/40\u001b[0m \u001b[32m━━━━━━━━━━━━━━━━━━━━\u001b[0m\u001b[37m\u001b[0m \u001b[1m2s\u001b[0m 44ms/step - accuracy: 1.0000 - loss: 0.0018 - val_accuracy: 0.8682 - val_loss: 0.8094\n",
            "Epoch 18/20\n",
            "\u001b[1m40/40\u001b[0m \u001b[32m━━━━━━━━━━━━━━━━━━━━\u001b[0m\u001b[37m\u001b[0m \u001b[1m2s\u001b[0m 39ms/step - accuracy: 1.0000 - loss: 0.0014 - val_accuracy: 0.8670 - val_loss: 0.8306\n",
            "Epoch 19/20\n",
            "\u001b[1m40/40\u001b[0m \u001b[32m━━━━━━━━━━━━━━━━━━━━\u001b[0m\u001b[37m\u001b[0m \u001b[1m1s\u001b[0m 36ms/step - accuracy: 1.0000 - loss: 0.0011 - val_accuracy: 0.8670 - val_loss: 0.8452\n",
            "Epoch 20/20\n",
            "\u001b[1m40/40\u001b[0m \u001b[32m━━━━━━━━━━━━━━━━━━━━\u001b[0m\u001b[37m\u001b[0m \u001b[1m3s\u001b[0m 39ms/step - accuracy: 1.0000 - loss: 0.0010 - val_accuracy: 0.8670 - val_loss: 0.8607\n",
            "[Units=32] best Val Acc=0.8896 | Test Acc=0.8542\n"
          ]
        }
      ]
    },
    {
      "cell_type": "markdown",
      "source": [
        "Two hidden layers with 32 units each performed a little worse than the baseline 2×16 (~0.88 test). Best val acc = 0.8896; test acc = 0.8542. So widening to 32 units didn’t help here; generalization looks okay but overall accuracy dropped slightly."
      ],
      "metadata": {
        "id": "iC4toKjZSWxy"
      }
    },
    {
      "cell_type": "markdown",
      "source": [
        "#Cell D — Even wider (64 units, 2 hidden layers, ReLU, BCE)"
      ],
      "metadata": {
        "id": "NCklzFNkG_Uf"
      }
    },
    {
      "cell_type": "code",
      "source": [
        "#2 hidden layers, 64 units each\n",
        "import keras\n",
        "from keras import layers\n",
        "import numpy as np\n",
        "\n",
        "model = keras.Sequential(\n",
        "    [\n",
        "        layers.Dense(64, activation=\"relu\", input_shape=(x_train.shape[1],)),\n",
        "        layers.Dense(64, activation=\"relu\"),\n",
        "        layers.Dense(1, activation=\"sigmoid\"),\n",
        "    ]\n",
        ")\n",
        "model.compile(optimizer=\"adam\", loss=\"binary_crossentropy\", metrics=[\"accuracy\"])\n",
        "\n",
        "history_U64 = model.fit(\n",
        "    x_train, y_train, epochs=20, batch_size=512, validation_split=0.2, verbose=1\n",
        ")\n",
        "\n",
        "val_acc = max(history_U64.history[\"val_accuracy\"])\n",
        "test_loss, test_acc = model.evaluate(x_test, y_test, verbose=0)\n",
        "print(f\"[Units=64] best Val Acc={val_acc:.4f} | Test Acc={test_acc:.4f}\")"
      ],
      "metadata": {
        "colab": {
          "base_uri": "https://localhost:8080/"
        },
        "id": "2NeRNmo7HChn",
        "outputId": "c9ad16aa-7fba-4c6f-8d5b-d847e03d8da4"
      },
      "execution_count": 20,
      "outputs": [
        {
          "output_type": "stream",
          "name": "stdout",
          "text": [
            "Epoch 1/20\n",
            "\u001b[1m40/40\u001b[0m \u001b[32m━━━━━━━━━━━━━━━━━━━━\u001b[0m\u001b[37m\u001b[0m \u001b[1m5s\u001b[0m 83ms/step - accuracy: 0.7403 - loss: 0.5390 - val_accuracy: 0.8830 - val_loss: 0.3013\n",
            "Epoch 2/20\n",
            "\u001b[1m40/40\u001b[0m \u001b[32m━━━━━━━━━━━━━━━━━━━━\u001b[0m\u001b[37m\u001b[0m \u001b[1m3s\u001b[0m 62ms/step - accuracy: 0.9305 - loss: 0.1876 - val_accuracy: 0.8896 - val_loss: 0.2948\n",
            "Epoch 3/20\n",
            "\u001b[1m40/40\u001b[0m \u001b[32m━━━━━━━━━━━━━━━━━━━━\u001b[0m\u001b[37m\u001b[0m \u001b[1m2s\u001b[0m 52ms/step - accuracy: 0.9569 - loss: 0.1302 - val_accuracy: 0.8794 - val_loss: 0.3385\n",
            "Epoch 4/20\n",
            "\u001b[1m40/40\u001b[0m \u001b[32m━━━━━━━━━━━━━━━━━━━━\u001b[0m\u001b[37m\u001b[0m \u001b[1m2s\u001b[0m 54ms/step - accuracy: 0.9702 - loss: 0.0942 - val_accuracy: 0.8820 - val_loss: 0.3740\n",
            "Epoch 5/20\n",
            "\u001b[1m40/40\u001b[0m \u001b[32m━━━━━━━━━━━━━━━━━━━━\u001b[0m\u001b[37m\u001b[0m \u001b[1m2s\u001b[0m 51ms/step - accuracy: 0.9856 - loss: 0.0585 - val_accuracy: 0.8782 - val_loss: 0.4345\n",
            "Epoch 6/20\n",
            "\u001b[1m40/40\u001b[0m \u001b[32m━━━━━━━━━━━━━━━━━━━━\u001b[0m\u001b[37m\u001b[0m \u001b[1m3s\u001b[0m 65ms/step - accuracy: 0.9933 - loss: 0.0331 - val_accuracy: 0.8748 - val_loss: 0.5069\n",
            "Epoch 7/20\n",
            "\u001b[1m40/40\u001b[0m \u001b[32m━━━━━━━━━━━━━━━━━━━━\u001b[0m\u001b[37m\u001b[0m \u001b[1m3s\u001b[0m 70ms/step - accuracy: 0.9985 - loss: 0.0178 - val_accuracy: 0.8722 - val_loss: 0.5704\n",
            "Epoch 8/20\n",
            "\u001b[1m40/40\u001b[0m \u001b[32m━━━━━━━━━━━━━━━━━━━━\u001b[0m\u001b[37m\u001b[0m \u001b[1m4s\u001b[0m 54ms/step - accuracy: 0.9997 - loss: 0.0079 - val_accuracy: 0.8734 - val_loss: 0.6243\n",
            "Epoch 9/20\n",
            "\u001b[1m40/40\u001b[0m \u001b[32m━━━━━━━━━━━━━━━━━━━━\u001b[0m\u001b[37m\u001b[0m \u001b[1m2s\u001b[0m 53ms/step - accuracy: 1.0000 - loss: 0.0043 - val_accuracy: 0.8730 - val_loss: 0.6702\n",
            "Epoch 10/20\n",
            "\u001b[1m40/40\u001b[0m \u001b[32m━━━━━━━━━━━━━━━━━━━━\u001b[0m\u001b[37m\u001b[0m \u001b[1m2s\u001b[0m 53ms/step - accuracy: 1.0000 - loss: 0.0026 - val_accuracy: 0.8744 - val_loss: 0.7028\n",
            "Epoch 11/20\n",
            "\u001b[1m40/40\u001b[0m \u001b[32m━━━━━━━━━━━━━━━━━━━━\u001b[0m\u001b[37m\u001b[0m \u001b[1m4s\u001b[0m 82ms/step - accuracy: 1.0000 - loss: 0.0018 - val_accuracy: 0.8736 - val_loss: 0.7325\n",
            "Epoch 12/20\n",
            "\u001b[1m40/40\u001b[0m \u001b[32m━━━━━━━━━━━━━━━━━━━━\u001b[0m\u001b[37m\u001b[0m \u001b[1m2s\u001b[0m 53ms/step - accuracy: 1.0000 - loss: 0.0013 - val_accuracy: 0.8742 - val_loss: 0.7570\n",
            "Epoch 13/20\n",
            "\u001b[1m40/40\u001b[0m \u001b[32m━━━━━━━━━━━━━━━━━━━━\u001b[0m\u001b[37m\u001b[0m \u001b[1m2s\u001b[0m 53ms/step - accuracy: 1.0000 - loss: 9.6919e-04 - val_accuracy: 0.8734 - val_loss: 0.7748\n",
            "Epoch 14/20\n",
            "\u001b[1m40/40\u001b[0m \u001b[32m━━━━━━━━━━━━━━━━━━━━\u001b[0m\u001b[37m\u001b[0m \u001b[1m2s\u001b[0m 53ms/step - accuracy: 1.0000 - loss: 7.9431e-04 - val_accuracy: 0.8728 - val_loss: 0.7928\n",
            "Epoch 15/20\n",
            "\u001b[1m40/40\u001b[0m \u001b[32m━━━━━━━━━━━━━━━━━━━━\u001b[0m\u001b[37m\u001b[0m \u001b[1m2s\u001b[0m 52ms/step - accuracy: 1.0000 - loss: 6.6723e-04 - val_accuracy: 0.8730 - val_loss: 0.8083\n",
            "Epoch 16/20\n",
            "\u001b[1m40/40\u001b[0m \u001b[32m━━━━━━━━━━━━━━━━━━━━\u001b[0m\u001b[37m\u001b[0m \u001b[1m3s\u001b[0m 73ms/step - accuracy: 1.0000 - loss: 5.3653e-04 - val_accuracy: 0.8728 - val_loss: 0.8227\n",
            "Epoch 17/20\n",
            "\u001b[1m40/40\u001b[0m \u001b[32m━━━━━━━━━━━━━━━━━━━━\u001b[0m\u001b[37m\u001b[0m \u001b[1m3s\u001b[0m 63ms/step - accuracy: 1.0000 - loss: 4.5980e-04 - val_accuracy: 0.8724 - val_loss: 0.8390\n",
            "Epoch 18/20\n",
            "\u001b[1m40/40\u001b[0m \u001b[32m━━━━━━━━━━━━━━━━━━━━\u001b[0m\u001b[37m\u001b[0m \u001b[1m2s\u001b[0m 51ms/step - accuracy: 1.0000 - loss: 3.9855e-04 - val_accuracy: 0.8728 - val_loss: 0.8522\n",
            "Epoch 19/20\n",
            "\u001b[1m40/40\u001b[0m \u001b[32m━━━━━━━━━━━━━━━━━━━━\u001b[0m\u001b[37m\u001b[0m \u001b[1m2s\u001b[0m 51ms/step - accuracy: 1.0000 - loss: 3.3051e-04 - val_accuracy: 0.8728 - val_loss: 0.8652\n",
            "Epoch 20/20\n",
            "\u001b[1m40/40\u001b[0m \u001b[32m━━━━━━━━━━━━━━━━━━━━\u001b[0m\u001b[37m\u001b[0m \u001b[1m2s\u001b[0m 52ms/step - accuracy: 1.0000 - loss: 2.8669e-04 - val_accuracy: 0.8730 - val_loss: 0.8788\n",
            "[Units=64] best Val Acc=0.8896 | Test Acc=0.8594\n"
          ]
        }
      ]
    },
    {
      "cell_type": "markdown",
      "source": [
        "Two hidden layers with 64 units each performed a little worse than the baseline 2×16 (~0.88 test). Best val acc = 0.8896; test acc = 0.8594. So widening to 64 units didn’t help here; generalization looks okay but overall accuracy dipped slightly."
      ],
      "metadata": {
        "id": "nhZ3zRkoSutN"
      }
    },
    {
      "cell_type": "markdown",
      "source": [
        "#Cell E — Different loss (MSE instead of BCE)"
      ],
      "metadata": {
        "id": "sHTs3wXkHFj0"
      }
    },
    {
      "cell_type": "code",
      "source": [
        "#The following model keeps original 2x16 + relu, but changes loss to 'mse'\n",
        "import keras\n",
        "from keras import layers\n",
        "import numpy as np\n",
        "\n",
        "model = keras.Sequential(\n",
        "    [\n",
        "        layers.Dense(16, activation=\"relu\", input_shape=(x_train.shape[1],)),\n",
        "        layers.Dense(16, activation=\"relu\"),\n",
        "        layers.Dense(1, activation=\"sigmoid\"),\n",
        "    ]\n",
        ")\n",
        "model.compile(optimizer=\"adam\", loss=\"mse\", metrics=[\"accuracy\"])\n",
        "\n",
        "history_MSE = model.fit(\n",
        "    x_train, y_train, epochs=20, batch_size=512, validation_split=0.2, verbose=1\n",
        ")\n",
        "\n",
        "val_acc = max(history_MSE.history[\"val_accuracy\"])\n",
        "test_loss, test_acc = model.evaluate(x_test, y_test, verbose=0)\n",
        "print(f\"[Loss=MSE] best Val Acc={val_acc:.4f} | Test Acc={test_acc:.4f}\")"
      ],
      "metadata": {
        "colab": {
          "base_uri": "https://localhost:8080/"
        },
        "id": "2XPDFJjYHKqO",
        "outputId": "3dea56a9-8e16-48db-e31c-d91d13ce0020"
      },
      "execution_count": 21,
      "outputs": [
        {
          "output_type": "stream",
          "name": "stdout",
          "text": [
            "Epoch 1/20\n",
            "\u001b[1m40/40\u001b[0m \u001b[32m━━━━━━━━━━━━━━━━━━━━\u001b[0m\u001b[37m\u001b[0m \u001b[1m5s\u001b[0m 41ms/step - accuracy: 0.6716 - loss: 0.2203 - val_accuracy: 0.8740 - val_loss: 0.1147\n",
            "Epoch 2/20\n",
            "\u001b[1m40/40\u001b[0m \u001b[32m━━━━━━━━━━━━━━━━━━━━\u001b[0m\u001b[37m\u001b[0m \u001b[1m2s\u001b[0m 30ms/step - accuracy: 0.9002 - loss: 0.0914 - val_accuracy: 0.8846 - val_loss: 0.0856\n",
            "Epoch 3/20\n",
            "\u001b[1m40/40\u001b[0m \u001b[32m━━━━━━━━━━━━━━━━━━━━\u001b[0m\u001b[37m\u001b[0m \u001b[1m1s\u001b[0m 28ms/step - accuracy: 0.9376 - loss: 0.0551 - val_accuracy: 0.8896 - val_loss: 0.0819\n",
            "Epoch 4/20\n",
            "\u001b[1m40/40\u001b[0m \u001b[32m━━━━━━━━━━━━━━━━━━━━\u001b[0m\u001b[37m\u001b[0m \u001b[1m1s\u001b[0m 28ms/step - accuracy: 0.9584 - loss: 0.0402 - val_accuracy: 0.8872 - val_loss: 0.0827\n",
            "Epoch 5/20\n",
            "\u001b[1m40/40\u001b[0m \u001b[32m━━━━━━━━━━━━━━━━━━━━\u001b[0m\u001b[37m\u001b[0m \u001b[1m1s\u001b[0m 30ms/step - accuracy: 0.9714 - loss: 0.0307 - val_accuracy: 0.8864 - val_loss: 0.0841\n",
            "Epoch 6/20\n",
            "\u001b[1m40/40\u001b[0m \u001b[32m━━━━━━━━━━━━━━━━━━━━\u001b[0m\u001b[37m\u001b[0m \u001b[1m1s\u001b[0m 28ms/step - accuracy: 0.9774 - loss: 0.0247 - val_accuracy: 0.8836 - val_loss: 0.0885\n",
            "Epoch 7/20\n",
            "\u001b[1m40/40\u001b[0m \u001b[32m━━━━━━━━━━━━━━━━━━━━\u001b[0m\u001b[37m\u001b[0m \u001b[1m1s\u001b[0m 30ms/step - accuracy: 0.9833 - loss: 0.0197 - val_accuracy: 0.8808 - val_loss: 0.0896\n",
            "Epoch 8/20\n",
            "\u001b[1m40/40\u001b[0m \u001b[32m━━━━━━━━━━━━━━━━━━━━\u001b[0m\u001b[37m\u001b[0m \u001b[1m2s\u001b[0m 41ms/step - accuracy: 0.9891 - loss: 0.0140 - val_accuracy: 0.8786 - val_loss: 0.0932\n",
            "Epoch 9/20\n",
            "\u001b[1m40/40\u001b[0m \u001b[32m━━━━━━━━━━━━━━━━━━━━\u001b[0m\u001b[37m\u001b[0m \u001b[1m2s\u001b[0m 42ms/step - accuracy: 0.9923 - loss: 0.0107 - val_accuracy: 0.8770 - val_loss: 0.0951\n",
            "Epoch 10/20\n",
            "\u001b[1m40/40\u001b[0m \u001b[32m━━━━━━━━━━━━━━━━━━━━\u001b[0m\u001b[37m\u001b[0m \u001b[1m1s\u001b[0m 28ms/step - accuracy: 0.9930 - loss: 0.0090 - val_accuracy: 0.8752 - val_loss: 0.0971\n",
            "Epoch 11/20\n",
            "\u001b[1m40/40\u001b[0m \u001b[32m━━━━━━━━━━━━━━━━━━━━\u001b[0m\u001b[37m\u001b[0m \u001b[1m1s\u001b[0m 29ms/step - accuracy: 0.9947 - loss: 0.0076 - val_accuracy: 0.8760 - val_loss: 0.0989\n",
            "Epoch 12/20\n",
            "\u001b[1m40/40\u001b[0m \u001b[32m━━━━━━━━━━━━━━━━━━━━\u001b[0m\u001b[37m\u001b[0m \u001b[1m1s\u001b[0m 29ms/step - accuracy: 0.9946 - loss: 0.0072 - val_accuracy: 0.8730 - val_loss: 0.1002\n",
            "Epoch 13/20\n",
            "\u001b[1m40/40\u001b[0m \u001b[32m━━━━━━━━━━━━━━━━━━━━\u001b[0m\u001b[37m\u001b[0m \u001b[1m1s\u001b[0m 28ms/step - accuracy: 0.9948 - loss: 0.0064 - val_accuracy: 0.8732 - val_loss: 0.1015\n",
            "Epoch 14/20\n",
            "\u001b[1m40/40\u001b[0m \u001b[32m━━━━━━━━━━━━━━━━━━━━\u001b[0m\u001b[37m\u001b[0m \u001b[1m1s\u001b[0m 28ms/step - accuracy: 0.9955 - loss: 0.0055 - val_accuracy: 0.8712 - val_loss: 0.1024\n",
            "Epoch 15/20\n",
            "\u001b[1m40/40\u001b[0m \u001b[32m━━━━━━━━━━━━━━━━━━━━\u001b[0m\u001b[37m\u001b[0m \u001b[1m1s\u001b[0m 28ms/step - accuracy: 0.9948 - loss: 0.0060 - val_accuracy: 0.8714 - val_loss: 0.1031\n",
            "Epoch 16/20\n",
            "\u001b[1m40/40\u001b[0m \u001b[32m━━━━━━━━━━━━━━━━━━━━\u001b[0m\u001b[37m\u001b[0m \u001b[1m1s\u001b[0m 29ms/step - accuracy: 0.9947 - loss: 0.0059 - val_accuracy: 0.8714 - val_loss: 0.1040\n",
            "Epoch 17/20\n",
            "\u001b[1m40/40\u001b[0m \u001b[32m━━━━━━━━━━━━━━━━━━━━\u001b[0m\u001b[37m\u001b[0m \u001b[1m1s\u001b[0m 32ms/step - accuracy: 0.9952 - loss: 0.0054 - val_accuracy: 0.8704 - val_loss: 0.1047\n",
            "Epoch 18/20\n",
            "\u001b[1m40/40\u001b[0m \u001b[32m━━━━━━━━━━━━━━━━━━━━\u001b[0m\u001b[37m\u001b[0m \u001b[1m2s\u001b[0m 46ms/step - accuracy: 0.9962 - loss: 0.0043 - val_accuracy: 0.8726 - val_loss: 0.1052\n",
            "Epoch 19/20\n",
            "\u001b[1m40/40\u001b[0m \u001b[32m━━━━━━━━━━━━━━━━━━━━\u001b[0m\u001b[37m\u001b[0m \u001b[1m2s\u001b[0m 29ms/step - accuracy: 0.9961 - loss: 0.0043 - val_accuracy: 0.8702 - val_loss: 0.1058\n",
            "Epoch 20/20\n",
            "\u001b[1m40/40\u001b[0m \u001b[32m━━━━━━━━━━━━━━━━━━━━\u001b[0m\u001b[37m\u001b[0m \u001b[1m1s\u001b[0m 29ms/step - accuracy: 0.9950 - loss: 0.0054 - val_accuracy: 0.8706 - val_loss: 0.1063\n",
            "[Loss=MSE] best Val Acc=0.8896 | Test Acc=0.8604\n"
          ]
        }
      ]
    },
    {
      "cell_type": "markdown",
      "source": [
        "Loss = MSE (same 2×16). Best val acc = 0.8896; test acc = 0.8604.\n",
        "This is a little below the baseline with BCE (~0.88 test), so BCE looks better for this binary task."
      ],
      "metadata": {
        "id": "q1fLYNKXS7kE"
      }
    },
    {
      "cell_type": "markdown",
      "source": [
        "#Cell F — Different activation (tanh instead of relu)"
      ],
      "metadata": {
        "id": "A82mXt4eHSZK"
      }
    },
    {
      "cell_type": "code",
      "source": [
        "#2x16 but with 'tanh' activations\n",
        "import keras\n",
        "from keras import layers\n",
        "import numpy as np\n",
        "\n",
        "model = keras.Sequential(\n",
        "    [\n",
        "        layers.Dense(16, activation=\"tanh\", input_shape=(x_train.shape[1],)),\n",
        "        layers.Dense(16, activation=\"tanh\"),\n",
        "        layers.Dense(1, activation=\"sigmoid\"),\n",
        "    ]\n",
        ")\n",
        "model.compile(optimizer=\"adam\", loss=\"binary_crossentropy\", metrics=[\"accuracy\"])\n",
        "\n",
        "history_TANH = model.fit(\n",
        "    x_train, y_train, epochs=20, batch_size=512, validation_split=0.2, verbose=1\n",
        ")\n",
        "\n",
        "val_acc = max(history_TANH.history[\"val_accuracy\"])\n",
        "test_loss, test_acc = model.evaluate(x_test, y_test, verbose=0)\n",
        "print(f\"[Activation=tanh] best Val Acc={val_acc:.4f} | Test Acc={test_acc:.4f}\")"
      ],
      "metadata": {
        "colab": {
          "base_uri": "https://localhost:8080/"
        },
        "id": "axtbS_lqHVr3",
        "outputId": "9e8f973b-890a-4461-833e-c62e8c339285"
      },
      "execution_count": 22,
      "outputs": [
        {
          "output_type": "stream",
          "name": "stdout",
          "text": [
            "Epoch 1/20\n",
            "\u001b[1m40/40\u001b[0m \u001b[32m━━━━━━━━━━━━━━━━━━━━\u001b[0m\u001b[37m\u001b[0m \u001b[1m4s\u001b[0m 49ms/step - accuracy: 0.7363 - loss: 0.5648 - val_accuracy: 0.8676 - val_loss: 0.3481\n",
            "Epoch 2/20\n",
            "\u001b[1m40/40\u001b[0m \u001b[32m━━━━━━━━━━━━━━━━━━━━\u001b[0m\u001b[37m\u001b[0m \u001b[1m1s\u001b[0m 28ms/step - accuracy: 0.9072 - loss: 0.2708 - val_accuracy: 0.8924 - val_loss: 0.2776\n",
            "Epoch 3/20\n",
            "\u001b[1m40/40\u001b[0m \u001b[32m━━━━━━━━━━━━━━━━━━━━\u001b[0m\u001b[37m\u001b[0m \u001b[1m1s\u001b[0m 29ms/step - accuracy: 0.9425 - loss: 0.1768 - val_accuracy: 0.8924 - val_loss: 0.2719\n",
            "Epoch 4/20\n",
            "\u001b[1m40/40\u001b[0m \u001b[32m━━━━━━━━━━━━━━━━━━━━\u001b[0m\u001b[37m\u001b[0m \u001b[1m1s\u001b[0m 31ms/step - accuracy: 0.9604 - loss: 0.1365 - val_accuracy: 0.8832 - val_loss: 0.2889\n",
            "Epoch 5/20\n",
            "\u001b[1m40/40\u001b[0m \u001b[32m━━━━━━━━━━━━━━━━━━━━\u001b[0m\u001b[37m\u001b[0m \u001b[1m1s\u001b[0m 29ms/step - accuracy: 0.9680 - loss: 0.1115 - val_accuracy: 0.8806 - val_loss: 0.3112\n",
            "Epoch 6/20\n",
            "\u001b[1m40/40\u001b[0m \u001b[32m━━━━━━━━━━━━━━━━━━━━\u001b[0m\u001b[37m\u001b[0m \u001b[1m1s\u001b[0m 31ms/step - accuracy: 0.9801 - loss: 0.0815 - val_accuracy: 0.8814 - val_loss: 0.3381\n",
            "Epoch 7/20\n",
            "\u001b[1m40/40\u001b[0m \u001b[32m━━━━━━━━━━━━━━━━━━━━\u001b[0m\u001b[37m\u001b[0m \u001b[1m2s\u001b[0m 29ms/step - accuracy: 0.9863 - loss: 0.0685 - val_accuracy: 0.8778 - val_loss: 0.3674\n",
            "Epoch 8/20\n",
            "\u001b[1m40/40\u001b[0m \u001b[32m━━━━━━━━━━━━━━━━━━━━\u001b[0m\u001b[37m\u001b[0m \u001b[1m2s\u001b[0m 44ms/step - accuracy: 0.9906 - loss: 0.0524 - val_accuracy: 0.8714 - val_loss: 0.4002\n",
            "Epoch 9/20\n",
            "\u001b[1m40/40\u001b[0m \u001b[32m━━━━━━━━━━━━━━━━━━━━\u001b[0m\u001b[37m\u001b[0m \u001b[1m2s\u001b[0m 33ms/step - accuracy: 0.9941 - loss: 0.0387 - val_accuracy: 0.8686 - val_loss: 0.4360\n",
            "Epoch 10/20\n",
            "\u001b[1m40/40\u001b[0m \u001b[32m━━━━━━━━━━━━━━━━━━━━\u001b[0m\u001b[37m\u001b[0m \u001b[1m1s\u001b[0m 29ms/step - accuracy: 0.9951 - loss: 0.0339 - val_accuracy: 0.8696 - val_loss: 0.4695\n",
            "Epoch 11/20\n",
            "\u001b[1m40/40\u001b[0m \u001b[32m━━━━━━━━━━━━━━━━━━━━\u001b[0m\u001b[37m\u001b[0m \u001b[1m1s\u001b[0m 28ms/step - accuracy: 0.9972 - loss: 0.0250 - val_accuracy: 0.8688 - val_loss: 0.5038\n",
            "Epoch 12/20\n",
            "\u001b[1m40/40\u001b[0m \u001b[32m━━━━━━━━━━━━━━━━━━━━\u001b[0m\u001b[37m\u001b[0m \u001b[1m1s\u001b[0m 29ms/step - accuracy: 0.9981 - loss: 0.0202 - val_accuracy: 0.8674 - val_loss: 0.5295\n",
            "Epoch 13/20\n",
            "\u001b[1m40/40\u001b[0m \u001b[32m━━━━━━━━━━━━━━━━━━━━\u001b[0m\u001b[37m\u001b[0m \u001b[1m1s\u001b[0m 29ms/step - accuracy: 0.9986 - loss: 0.0172 - val_accuracy: 0.8652 - val_loss: 0.5608\n",
            "Epoch 14/20\n",
            "\u001b[1m40/40\u001b[0m \u001b[32m━━━━━━━━━━━━━━━━━━━━\u001b[0m\u001b[37m\u001b[0m \u001b[1m2s\u001b[0m 42ms/step - accuracy: 0.9988 - loss: 0.0147 - val_accuracy: 0.8634 - val_loss: 0.5837\n",
            "Epoch 15/20\n",
            "\u001b[1m40/40\u001b[0m \u001b[32m━━━━━━━━━━━━━━━━━━━━\u001b[0m\u001b[37m\u001b[0m \u001b[1m5s\u001b[0m 113ms/step - accuracy: 0.9993 - loss: 0.0101 - val_accuracy: 0.8640 - val_loss: 0.6060\n",
            "Epoch 16/20\n",
            "\u001b[1m40/40\u001b[0m \u001b[32m━━━━━━━━━━━━━━━━━━━━\u001b[0m\u001b[37m\u001b[0m \u001b[1m2s\u001b[0m 36ms/step - accuracy: 0.9994 - loss: 0.0086 - val_accuracy: 0.8650 - val_loss: 0.6274\n",
            "Epoch 17/20\n",
            "\u001b[1m40/40\u001b[0m \u001b[32m━━━━━━━━━━━━━━━━━━━━\u001b[0m\u001b[37m\u001b[0m \u001b[1m1s\u001b[0m 31ms/step - accuracy: 0.9995 - loss: 0.0075 - val_accuracy: 0.8640 - val_loss: 0.6467\n",
            "Epoch 18/20\n",
            "\u001b[1m40/40\u001b[0m \u001b[32m━━━━━━━━━━━━━━━━━━━━\u001b[0m\u001b[37m\u001b[0m \u001b[1m3s\u001b[0m 31ms/step - accuracy: 0.9997 - loss: 0.0053 - val_accuracy: 0.8640 - val_loss: 0.6650\n",
            "Epoch 19/20\n",
            "\u001b[1m40/40\u001b[0m \u001b[32m━━━━━━━━━━━━━━━━━━━━\u001b[0m\u001b[37m\u001b[0m \u001b[1m1s\u001b[0m 30ms/step - accuracy: 0.9996 - loss: 0.0051 - val_accuracy: 0.8646 - val_loss: 0.6844\n",
            "Epoch 20/20\n",
            "\u001b[1m40/40\u001b[0m \u001b[32m━━━━━━━━━━━━━━━━━━━━\u001b[0m\u001b[37m\u001b[0m \u001b[1m1s\u001b[0m 30ms/step - accuracy: 0.9999 - loss: 0.0036 - val_accuracy: 0.8646 - val_loss: 0.6988\n",
            "[Activation=tanh] best Val Acc=0.8924 | Test Acc=0.8500\n"
          ]
        }
      ]
    },
    {
      "cell_type": "markdown",
      "source": [
        "Activation = tanh (2×16). Best val acc = 0.8924; test acc = 0.8500. This is below the baseline 2×16 ReLU (~0.88 test), so ReLU works better here. The val–test gap is small, but overall accuracy dropped."
      ],
      "metadata": {
        "id": "blE7mORaTGb4"
      }
    },
    {
      "cell_type": "markdown",
      "source": [
        "#Cell G — Add dropout (regularization)"
      ],
      "metadata": {
        "id": "X_50uuUNHasr"
      }
    },
    {
      "cell_type": "code",
      "source": [
        "#The following model will be 2x16 + Dropout(0.5) between layers\n",
        "import keras\n",
        "from keras import layers\n",
        "import numpy as np\n",
        "\n",
        "model = keras.Sequential(\n",
        "    [\n",
        "        layers.Dense(16, activation=\"relu\", input_shape=(x_train.shape[1],)),\n",
        "        layers.Dropout(0.5),\n",
        "        layers.Dense(16, activation=\"relu\"),\n",
        "        layers.Dropout(0.5),\n",
        "        layers.Dense(1, activation=\"sigmoid\"),\n",
        "    ]\n",
        ")\n",
        "model.compile(optimizer=\"adam\", loss=\"binary_crossentropy\", metrics=[\"accuracy\"])\n",
        "\n",
        "history_DO = model.fit(\n",
        "    x_train, y_train, epochs=20, batch_size=512, validation_split=0.2, verbose=1\n",
        ")\n",
        "\n",
        "val_acc = max(history_DO.history[\"val_accuracy\"])\n",
        "test_loss, test_acc = model.evaluate(x_test, y_test, verbose=0)\n",
        "print(f\"[Dropout=0.5] best Val Acc={val_acc:.4f} | Test Acc={test_acc:.4f}\")"
      ],
      "metadata": {
        "colab": {
          "base_uri": "https://localhost:8080/"
        },
        "id": "qcL2qo0EHekX",
        "outputId": "a54947c3-0e1e-43c6-8890-a3d64c270dcc"
      },
      "execution_count": 23,
      "outputs": [
        {
          "output_type": "stream",
          "name": "stdout",
          "text": [
            "Epoch 1/20\n",
            "\u001b[1m40/40\u001b[0m \u001b[32m━━━━━━━━━━━━━━━━━━━━\u001b[0m\u001b[37m\u001b[0m \u001b[1m4s\u001b[0m 42ms/step - accuracy: 0.5808 - loss: 0.6651 - val_accuracy: 0.8504 - val_loss: 0.5190\n",
            "Epoch 2/20\n",
            "\u001b[1m40/40\u001b[0m \u001b[32m━━━━━━━━━━━━━━━━━━━━\u001b[0m\u001b[37m\u001b[0m \u001b[1m2s\u001b[0m 32ms/step - accuracy: 0.7584 - loss: 0.5168 - val_accuracy: 0.8812 - val_loss: 0.3825\n",
            "Epoch 3/20\n",
            "\u001b[1m40/40\u001b[0m \u001b[32m━━━━━━━━━━━━━━━━━━━━\u001b[0m\u001b[37m\u001b[0m \u001b[1m2s\u001b[0m 30ms/step - accuracy: 0.8225 - loss: 0.4188 - val_accuracy: 0.8856 - val_loss: 0.3131\n",
            "Epoch 4/20\n",
            "\u001b[1m40/40\u001b[0m \u001b[32m━━━━━━━━━━━━━━━━━━━━\u001b[0m\u001b[37m\u001b[0m \u001b[1m1s\u001b[0m 30ms/step - accuracy: 0.8654 - loss: 0.3439 - val_accuracy: 0.8904 - val_loss: 0.2805\n",
            "Epoch 5/20\n",
            "\u001b[1m40/40\u001b[0m \u001b[32m━━━━━━━━━━━━━━━━━━━━\u001b[0m\u001b[37m\u001b[0m \u001b[1m1s\u001b[0m 30ms/step - accuracy: 0.8919 - loss: 0.2962 - val_accuracy: 0.8944 - val_loss: 0.2679\n",
            "Epoch 6/20\n",
            "\u001b[1m40/40\u001b[0m \u001b[32m━━━━━━━━━━━━━━━━━━━━\u001b[0m\u001b[37m\u001b[0m \u001b[1m1s\u001b[0m 33ms/step - accuracy: 0.9094 - loss: 0.2482 - val_accuracy: 0.8904 - val_loss: 0.2732\n",
            "Epoch 7/20\n",
            "\u001b[1m40/40\u001b[0m \u001b[32m━━━━━━━━━━━━━━━━━━━━\u001b[0m\u001b[37m\u001b[0m \u001b[1m3s\u001b[0m 34ms/step - accuracy: 0.9232 - loss: 0.2160 - val_accuracy: 0.8926 - val_loss: 0.2736\n",
            "Epoch 8/20\n",
            "\u001b[1m40/40\u001b[0m \u001b[32m━━━━━━━━━━━━━━━━━━━━\u001b[0m\u001b[37m\u001b[0m \u001b[1m1s\u001b[0m 29ms/step - accuracy: 0.9306 - loss: 0.1925 - val_accuracy: 0.8912 - val_loss: 0.2824\n",
            "Epoch 9/20\n",
            "\u001b[1m40/40\u001b[0m \u001b[32m━━━━━━━━━━━━━━━━━━━━\u001b[0m\u001b[37m\u001b[0m \u001b[1m1s\u001b[0m 29ms/step - accuracy: 0.9341 - loss: 0.1792 - val_accuracy: 0.8928 - val_loss: 0.2979\n",
            "Epoch 10/20\n",
            "\u001b[1m40/40\u001b[0m \u001b[32m━━━━━━━━━━━━━━━━━━━━\u001b[0m\u001b[37m\u001b[0m \u001b[1m1s\u001b[0m 30ms/step - accuracy: 0.9445 - loss: 0.1646 - val_accuracy: 0.8928 - val_loss: 0.3184\n",
            "Epoch 11/20\n",
            "\u001b[1m40/40\u001b[0m \u001b[32m━━━━━━━━━━━━━━━━━━━━\u001b[0m\u001b[37m\u001b[0m \u001b[1m1s\u001b[0m 29ms/step - accuracy: 0.9477 - loss: 0.1430 - val_accuracy: 0.8918 - val_loss: 0.3257\n",
            "Epoch 12/20\n",
            "\u001b[1m40/40\u001b[0m \u001b[32m━━━━━━━━━━━━━━━━━━━━\u001b[0m\u001b[37m\u001b[0m \u001b[1m1s\u001b[0m 29ms/step - accuracy: 0.9542 - loss: 0.1243 - val_accuracy: 0.8910 - val_loss: 0.3599\n",
            "Epoch 13/20\n",
            "\u001b[1m40/40\u001b[0m \u001b[32m━━━━━━━━━━━━━━━━━━━━\u001b[0m\u001b[37m\u001b[0m \u001b[1m1s\u001b[0m 29ms/step - accuracy: 0.9594 - loss: 0.1145 - val_accuracy: 0.8878 - val_loss: 0.3683\n",
            "Epoch 14/20\n",
            "\u001b[1m40/40\u001b[0m \u001b[32m━━━━━━━━━━━━━━━━━━━━\u001b[0m\u001b[37m\u001b[0m \u001b[1m1s\u001b[0m 29ms/step - accuracy: 0.9594 - loss: 0.1095 - val_accuracy: 0.8898 - val_loss: 0.3970\n",
            "Epoch 15/20\n",
            "\u001b[1m40/40\u001b[0m \u001b[32m━━━━━━━━━━━━━━━━━━━━\u001b[0m\u001b[37m\u001b[0m \u001b[1m2s\u001b[0m 39ms/step - accuracy: 0.9627 - loss: 0.0993 - val_accuracy: 0.8896 - val_loss: 0.4074\n",
            "Epoch 16/20\n",
            "\u001b[1m40/40\u001b[0m \u001b[32m━━━━━━━━━━━━━━━━━━━━\u001b[0m\u001b[37m\u001b[0m \u001b[1m2s\u001b[0m 47ms/step - accuracy: 0.9692 - loss: 0.0866 - val_accuracy: 0.8892 - val_loss: 0.4357\n",
            "Epoch 17/20\n",
            "\u001b[1m40/40\u001b[0m \u001b[32m━━━━━━━━━━━━━━━━━━━━\u001b[0m\u001b[37m\u001b[0m \u001b[1m1s\u001b[0m 29ms/step - accuracy: 0.9652 - loss: 0.0882 - val_accuracy: 0.8870 - val_loss: 0.4827\n",
            "Epoch 18/20\n",
            "\u001b[1m40/40\u001b[0m \u001b[32m━━━━━━━━━━━━━━━━━━━━\u001b[0m\u001b[37m\u001b[0m \u001b[1m1s\u001b[0m 34ms/step - accuracy: 0.9664 - loss: 0.0802 - val_accuracy: 0.8878 - val_loss: 0.4694\n",
            "Epoch 19/20\n",
            "\u001b[1m40/40\u001b[0m \u001b[32m━━━━━━━━━━━━━━━━━━━━\u001b[0m\u001b[37m\u001b[0m \u001b[1m2s\u001b[0m 30ms/step - accuracy: 0.9719 - loss: 0.0724 - val_accuracy: 0.8874 - val_loss: 0.4844\n",
            "Epoch 20/20\n",
            "\u001b[1m40/40\u001b[0m \u001b[32m━━━━━━━━━━━━━━━━━━━━\u001b[0m\u001b[37m\u001b[0m \u001b[1m1s\u001b[0m 30ms/step - accuracy: 0.9699 - loss: 0.0758 - val_accuracy: 0.8862 - val_loss: 0.4757\n",
            "[Dropout=0.5] best Val Acc=0.8944 | Test Acc=0.8763\n"
          ]
        }
      ]
    },
    {
      "cell_type": "markdown",
      "source": [
        "Dropout = 0.5 (2×16). Best val acc = 0.8944; test acc = 0.8763.\n",
        "Very close to the baseline (~0.88 test), maybe a tiny bit lower. So dropout didn’t help much at this size; it’s more useful if I widen/deepen the network and start to overfit."
      ],
      "metadata": {
        "id": "ZmVNd1YVTjTc"
      }
    },
    {
      "cell_type": "markdown",
      "source": [
        "#Cell H — Add L2 weight regularization"
      ],
      "metadata": {
        "id": "1r7RW-_eHlJ3"
      }
    },
    {
      "cell_type": "code",
      "source": [
        "#2x16 + L2 regularization on the dense layers\n",
        "import keras\n",
        "from keras import layers, regularizers\n",
        "import numpy as np\n",
        "\n",
        "model = keras.Sequential(\n",
        "    [\n",
        "        layers.Dense(16, activation=\"relu\", input_shape=(x_train.shape[1],),\n",
        "                     kernel_regularizer=regularizers.l2(1e-4)),\n",
        "        layers.Dense(16, activation=\"relu\",\n",
        "                     kernel_regularizer=regularizers.l2(1e-4)),\n",
        "        layers.Dense(1, activation=\"sigmoid\"),\n",
        "    ]\n",
        ")\n",
        "model.compile(optimizer=\"adam\", loss=\"binary_crossentropy\", metrics=[\"accuracy\"])\n",
        "\n",
        "history_L2 = model.fit(\n",
        "    x_train, y_train, epochs=20, batch_size=512, validation_split=0.2, verbose=1\n",
        ")\n",
        "\n",
        "val_acc = max(history_L2.history[\"val_accuracy\"])\n",
        "test_loss, test_acc = model.evaluate(x_test, y_test, verbose=0)\n",
        "print(f\"[L2=1e-4] best Val Acc={val_acc:.4f} | Test Acc={test_acc:.4f}\")"
      ],
      "metadata": {
        "colab": {
          "base_uri": "https://localhost:8080/"
        },
        "id": "0Fz5QNJaHogU",
        "outputId": "87f1e5b7-eb44-4c0f-c976-ee4fd4971397"
      },
      "execution_count": 24,
      "outputs": [
        {
          "output_type": "stream",
          "name": "stdout",
          "text": [
            "Epoch 1/20\n",
            "\u001b[1m40/40\u001b[0m \u001b[32m━━━━━━━━━━━━━━━━━━━━\u001b[0m\u001b[37m\u001b[0m \u001b[1m3s\u001b[0m 41ms/step - accuracy: 0.7171 - loss: 0.6227 - val_accuracy: 0.8668 - val_loss: 0.3914\n",
            "Epoch 2/20\n",
            "\u001b[1m40/40\u001b[0m \u001b[32m━━━━━━━━━━━━━━━━━━━━\u001b[0m\u001b[37m\u001b[0m \u001b[1m1s\u001b[0m 29ms/step - accuracy: 0.8996 - loss: 0.3266 - val_accuracy: 0.8876 - val_loss: 0.2980\n",
            "Epoch 3/20\n",
            "\u001b[1m40/40\u001b[0m \u001b[32m━━━━━━━━━━━━━━━━━━━━\u001b[0m\u001b[37m\u001b[0m \u001b[1m2s\u001b[0m 45ms/step - accuracy: 0.9274 - loss: 0.2277 - val_accuracy: 0.8920 - val_loss: 0.2842\n",
            "Epoch 4/20\n",
            "\u001b[1m40/40\u001b[0m \u001b[32m━━━━━━━━━━━━━━━━━━━━\u001b[0m\u001b[37m\u001b[0m \u001b[1m2s\u001b[0m 40ms/step - accuracy: 0.9471 - loss: 0.1754 - val_accuracy: 0.8920 - val_loss: 0.2900\n",
            "Epoch 5/20\n",
            "\u001b[1m40/40\u001b[0m \u001b[32m━━━━━━━━━━━━━━━━━━━━\u001b[0m\u001b[37m\u001b[0m \u001b[1m2s\u001b[0m 30ms/step - accuracy: 0.9591 - loss: 0.1464 - val_accuracy: 0.8872 - val_loss: 0.3087\n",
            "Epoch 6/20\n",
            "\u001b[1m40/40\u001b[0m \u001b[32m━━━━━━━━━━━━━━━━━━━━\u001b[0m\u001b[37m\u001b[0m \u001b[1m1s\u001b[0m 30ms/step - accuracy: 0.9636 - loss: 0.1325 - val_accuracy: 0.8832 - val_loss: 0.3302\n",
            "Epoch 7/20\n",
            "\u001b[1m40/40\u001b[0m \u001b[32m━━━━━━━━━━━━━━━━━━━━\u001b[0m\u001b[37m\u001b[0m \u001b[1m1s\u001b[0m 30ms/step - accuracy: 0.9721 - loss: 0.1134 - val_accuracy: 0.8816 - val_loss: 0.3475\n",
            "Epoch 8/20\n",
            "\u001b[1m40/40\u001b[0m \u001b[32m━━━━━━━━━━━━━━━━━━━━\u001b[0m\u001b[37m\u001b[0m \u001b[1m1s\u001b[0m 29ms/step - accuracy: 0.9787 - loss: 0.1001 - val_accuracy: 0.8794 - val_loss: 0.3750\n",
            "Epoch 9/20\n",
            "\u001b[1m40/40\u001b[0m \u001b[32m━━━━━━━━━━━━━━━━━━━━\u001b[0m\u001b[37m\u001b[0m \u001b[1m1s\u001b[0m 30ms/step - accuracy: 0.9857 - loss: 0.0865 - val_accuracy: 0.8796 - val_loss: 0.4000\n",
            "Epoch 10/20\n",
            "\u001b[1m40/40\u001b[0m \u001b[32m━━━━━━━━━━━━━━━━━━━━\u001b[0m\u001b[37m\u001b[0m \u001b[1m1s\u001b[0m 29ms/step - accuracy: 0.9881 - loss: 0.0789 - val_accuracy: 0.8750 - val_loss: 0.4303\n",
            "Epoch 11/20\n",
            "\u001b[1m40/40\u001b[0m \u001b[32m━━━━━━━━━━━━━━━━━━━━\u001b[0m\u001b[37m\u001b[0m \u001b[1m1s\u001b[0m 30ms/step - accuracy: 0.9905 - loss: 0.0698 - val_accuracy: 0.8728 - val_loss: 0.4643\n",
            "Epoch 12/20\n",
            "\u001b[1m40/40\u001b[0m \u001b[32m━━━━━━━━━━━━━━━━━━━━\u001b[0m\u001b[37m\u001b[0m \u001b[1m2s\u001b[0m 45ms/step - accuracy: 0.9942 - loss: 0.0614 - val_accuracy: 0.8712 - val_loss: 0.4921\n",
            "Epoch 13/20\n",
            "\u001b[1m40/40\u001b[0m \u001b[32m━━━━━━━━━━━━━━━━━━━━\u001b[0m\u001b[37m\u001b[0m \u001b[1m2s\u001b[0m 29ms/step - accuracy: 0.9957 - loss: 0.0543 - val_accuracy: 0.8710 - val_loss: 0.5186\n",
            "Epoch 14/20\n",
            "\u001b[1m40/40\u001b[0m \u001b[32m━━━━━━━━━━━━━━━━━━━━\u001b[0m\u001b[37m\u001b[0m \u001b[1m1s\u001b[0m 30ms/step - accuracy: 0.9976 - loss: 0.0483 - val_accuracy: 0.8698 - val_loss: 0.5496\n",
            "Epoch 15/20\n",
            "\u001b[1m40/40\u001b[0m \u001b[32m━━━━━━━━━━━━━━━━━━━━\u001b[0m\u001b[37m\u001b[0m \u001b[1m1s\u001b[0m 30ms/step - accuracy: 0.9979 - loss: 0.0442 - val_accuracy: 0.8700 - val_loss: 0.5729\n",
            "Epoch 16/20\n",
            "\u001b[1m40/40\u001b[0m \u001b[32m━━━━━━━━━━━━━━━━━━━━\u001b[0m\u001b[37m\u001b[0m \u001b[1m1s\u001b[0m 29ms/step - accuracy: 0.9993 - loss: 0.0396 - val_accuracy: 0.8700 - val_loss: 0.6012\n",
            "Epoch 17/20\n",
            "\u001b[1m40/40\u001b[0m \u001b[32m━━━━━━━━━━━━━━━━━━━━\u001b[0m\u001b[37m\u001b[0m \u001b[1m1s\u001b[0m 30ms/step - accuracy: 0.9995 - loss: 0.0376 - val_accuracy: 0.8700 - val_loss: 0.6276\n",
            "Epoch 18/20\n",
            "\u001b[1m40/40\u001b[0m \u001b[32m━━━━━━━━━━━━━━━━━━━━\u001b[0m\u001b[37m\u001b[0m \u001b[1m1s\u001b[0m 30ms/step - accuracy: 0.9997 - loss: 0.0352 - val_accuracy: 0.8696 - val_loss: 0.6630\n",
            "Epoch 19/20\n",
            "\u001b[1m40/40\u001b[0m \u001b[32m━━━━━━━━━━━━━━━━━━━━\u001b[0m\u001b[37m\u001b[0m \u001b[1m1s\u001b[0m 31ms/step - accuracy: 0.9999 - loss: 0.0331 - val_accuracy: 0.8688 - val_loss: 0.6836\n",
            "Epoch 20/20\n",
            "\u001b[1m40/40\u001b[0m \u001b[32m━━━━━━━━━━━━━━━━━━━━\u001b[0m\u001b[37m\u001b[0m \u001b[1m1s\u001b[0m 33ms/step - accuracy: 0.9999 - loss: 0.0306 - val_accuracy: 0.8688 - val_loss: 0.7134\n",
            "[L2=1e-4] best Val Acc=0.8920 | Test Acc=0.8567\n"
          ]
        }
      ]
    },
    {
      "cell_type": "markdown",
      "source": [
        "L2 = 1e-4 (2×16). Best val acc = 0.8920; test acc = 0.8567.\n",
        "Slightly below the baseline (~0.88 test), so L2 didn’t help at this size—likely nudged the model toward mild underfitting. I’d use L2 only if I widen/deepen and start overfitting."
      ],
      "metadata": {
        "id": "wdHYM_MeTzcO"
      }
    },
    {
      "cell_type": "markdown",
      "source": [
        "#Final Model to increase Validation Accuracy"
      ],
      "metadata": {
        "id": "WvOPxj2NUT6E"
      }
    },
    {
      "cell_type": "code",
      "source": [
        "import keras\n",
        "from keras import layers, regularizers\n",
        "\n",
        "model = keras.Sequential([\n",
        "    layers.Dense(32, activation=\"relu\", input_shape=(x_train.shape[1],),\n",
        "                 kernel_regularizer=regularizers.l2(1e-5)),\n",
        "    layers.Dropout(0.5),\n",
        "    layers.Dense(32, activation=\"relu\",\n",
        "                 kernel_regularizer=regularizers.l2(1e-5)),\n",
        "    layers.Dropout(0.5),\n",
        "    layers.Dense(32, activation=\"relu\",\n",
        "                 kernel_regularizer=regularizers.l2(1e-5)),\n",
        "    layers.Dense(1, activation=\"sigmoid\"),\n",
        "])\n",
        "\n",
        "model.compile(optimizer=\"adam\", loss=\"binary_crossentropy\", metrics=[\"accuracy\"])\n",
        "\n",
        "history_comboC = model.fit(\n",
        "    x_train, y_train,\n",
        "    epochs=20,\n",
        "    batch_size=512,\n",
        "    validation_split=0.2,\n",
        "    verbose=1\n",
        ")\n",
        "\n",
        "best_val_acc  = max(history_comboC.history[\"val_accuracy\"])\n",
        "best_val_loss = min(history_comboC.history[\"val_loss\"])\n",
        "test_loss, test_acc = model.evaluate(x_test, y_test, verbose=0)\n",
        "print(f\"Best Val Acc={best_val_acc:.4f} | Best Val Loss={best_val_loss:.4f} | \"\n",
        "      f\"Test Acc={test_acc:.4f} | Test Loss={test_loss:.4f}\")"
      ],
      "metadata": {
        "colab": {
          "base_uri": "https://localhost:8080/"
        },
        "id": "lWUIDMPKVzI0",
        "outputId": "820c4c4b-0414-4329-a08f-45d25b9c0145"
      },
      "execution_count": 31,
      "outputs": [
        {
          "output_type": "stream",
          "name": "stdout",
          "text": [
            "Epoch 1/20\n",
            "\u001b[1m40/40\u001b[0m \u001b[32m━━━━━━━━━━━━━━━━━━━━\u001b[0m\u001b[37m\u001b[0m \u001b[1m5s\u001b[0m 70ms/step - accuracy: 0.5977 - loss: 0.6617 - val_accuracy: 0.8596 - val_loss: 0.4285\n",
            "Epoch 2/20\n",
            "\u001b[1m40/40\u001b[0m \u001b[32m━━━━━━━━━━━━━━━━━━━━\u001b[0m\u001b[37m\u001b[0m \u001b[1m4s\u001b[0m 38ms/step - accuracy: 0.8384 - loss: 0.4105 - val_accuracy: 0.8900 - val_loss: 0.2840\n",
            "Epoch 3/20\n",
            "\u001b[1m40/40\u001b[0m \u001b[32m━━━━━━━━━━━━━━━━━━━━\u001b[0m\u001b[37m\u001b[0m \u001b[1m2s\u001b[0m 37ms/step - accuracy: 0.9041 - loss: 0.2689 - val_accuracy: 0.8966 - val_loss: 0.2711\n",
            "Epoch 4/20\n",
            "\u001b[1m40/40\u001b[0m \u001b[32m━━━━━━━━━━━━━━━━━━━━\u001b[0m\u001b[37m\u001b[0m \u001b[1m1s\u001b[0m 35ms/step - accuracy: 0.9241 - loss: 0.2135 - val_accuracy: 0.8932 - val_loss: 0.2869\n",
            "Epoch 5/20\n",
            "\u001b[1m40/40\u001b[0m \u001b[32m━━━━━━━━━━━━━━━━━━━━\u001b[0m\u001b[37m\u001b[0m \u001b[1m2s\u001b[0m 41ms/step - accuracy: 0.9470 - loss: 0.1614 - val_accuracy: 0.8930 - val_loss: 0.2982\n",
            "Epoch 6/20\n",
            "\u001b[1m40/40\u001b[0m \u001b[32m━━━━━━━━━━━━━━━━━━━━\u001b[0m\u001b[37m\u001b[0m \u001b[1m2s\u001b[0m 60ms/step - accuracy: 0.9564 - loss: 0.1303 - val_accuracy: 0.8922 - val_loss: 0.3368\n",
            "Epoch 7/20\n",
            "\u001b[1m40/40\u001b[0m \u001b[32m━━━━━━━━━━━━━━━━━━━━\u001b[0m\u001b[37m\u001b[0m \u001b[1m2s\u001b[0m 38ms/step - accuracy: 0.9627 - loss: 0.1137 - val_accuracy: 0.8882 - val_loss: 0.3691\n",
            "Epoch 8/20\n",
            "\u001b[1m40/40\u001b[0m \u001b[32m━━━━━━━━━━━━━━━━━━━━\u001b[0m\u001b[37m\u001b[0m \u001b[1m3s\u001b[0m 38ms/step - accuracy: 0.9676 - loss: 0.0955 - val_accuracy: 0.8886 - val_loss: 0.4119\n",
            "Epoch 9/20\n",
            "\u001b[1m40/40\u001b[0m \u001b[32m━━━━━━━━━━━━━━━━━━━━\u001b[0m\u001b[37m\u001b[0m \u001b[1m2s\u001b[0m 37ms/step - accuracy: 0.9744 - loss: 0.0802 - val_accuracy: 0.8854 - val_loss: 0.4254\n",
            "Epoch 10/20\n",
            "\u001b[1m40/40\u001b[0m \u001b[32m━━━━━━━━━━━━━━━━━━━━\u001b[0m\u001b[37m\u001b[0m \u001b[1m2s\u001b[0m 41ms/step - accuracy: 0.9769 - loss: 0.0675 - val_accuracy: 0.8880 - val_loss: 0.4536\n",
            "Epoch 11/20\n",
            "\u001b[1m40/40\u001b[0m \u001b[32m━━━━━━━━━━━━━━━━━━━━\u001b[0m\u001b[37m\u001b[0m \u001b[1m2s\u001b[0m 37ms/step - accuracy: 0.9794 - loss: 0.0578 - val_accuracy: 0.8882 - val_loss: 0.4854\n",
            "Epoch 12/20\n",
            "\u001b[1m40/40\u001b[0m \u001b[32m━━━━━━━━━━━━━━━━━━━━\u001b[0m\u001b[37m\u001b[0m \u001b[1m3s\u001b[0m 59ms/step - accuracy: 0.9812 - loss: 0.0554 - val_accuracy: 0.8854 - val_loss: 0.5348\n",
            "Epoch 13/20\n",
            "\u001b[1m40/40\u001b[0m \u001b[32m━━━━━━━━━━━━━━━━━━━━\u001b[0m\u001b[37m\u001b[0m \u001b[1m2s\u001b[0m 50ms/step - accuracy: 0.9825 - loss: 0.0478 - val_accuracy: 0.8842 - val_loss: 0.5447\n",
            "Epoch 14/20\n",
            "\u001b[1m40/40\u001b[0m \u001b[32m━━━━━━━━━━━━━━━━━━━━\u001b[0m\u001b[37m\u001b[0m \u001b[1m2s\u001b[0m 41ms/step - accuracy: 0.9801 - loss: 0.0553 - val_accuracy: 0.8808 - val_loss: 0.5738\n",
            "Epoch 15/20\n",
            "\u001b[1m40/40\u001b[0m \u001b[32m━━━━━━━━━━━━━━━━━━━━\u001b[0m\u001b[37m\u001b[0m \u001b[1m2s\u001b[0m 38ms/step - accuracy: 0.9817 - loss: 0.0549 - val_accuracy: 0.8846 - val_loss: 0.5685\n",
            "Epoch 16/20\n",
            "\u001b[1m40/40\u001b[0m \u001b[32m━━━━━━━━━━━━━━━━━━━━\u001b[0m\u001b[37m\u001b[0m \u001b[1m3s\u001b[0m 42ms/step - accuracy: 0.9800 - loss: 0.0566 - val_accuracy: 0.8838 - val_loss: 0.5588\n",
            "Epoch 17/20\n",
            "\u001b[1m40/40\u001b[0m \u001b[32m━━━━━━━━━━━━━━━━━━━━\u001b[0m\u001b[37m\u001b[0m \u001b[1m2s\u001b[0m 41ms/step - accuracy: 0.9807 - loss: 0.0521 - val_accuracy: 0.8810 - val_loss: 0.6096\n",
            "Epoch 18/20\n",
            "\u001b[1m40/40\u001b[0m \u001b[32m━━━━━━━━━━━━━━━━━━━━\u001b[0m\u001b[37m\u001b[0m \u001b[1m2s\u001b[0m 40ms/step - accuracy: 0.9835 - loss: 0.0478 - val_accuracy: 0.8806 - val_loss: 0.6121\n",
            "Epoch 19/20\n",
            "\u001b[1m40/40\u001b[0m \u001b[32m━━━━━━━━━━━━━━━━━━━━\u001b[0m\u001b[37m\u001b[0m \u001b[1m2s\u001b[0m 59ms/step - accuracy: 0.9808 - loss: 0.0499 - val_accuracy: 0.8814 - val_loss: 0.6094\n",
            "Epoch 20/20\n",
            "\u001b[1m40/40\u001b[0m \u001b[32m━━━━━━━━━━━━━━━━━━━━\u001b[0m\u001b[37m\u001b[0m \u001b[1m2s\u001b[0m 37ms/step - accuracy: 0.9799 - loss: 0.0513 - val_accuracy: 0.8810 - val_loss: 0.5879\n",
            "Best Val Acc=0.8966 | Best Val Loss=0.2711 | Test Acc=0.8709 | Test Loss=0.6184\n"
          ]
        }
      ]
    },
    {
      "cell_type": "markdown",
      "source": [
        "Three hidden layers (32 units each) with Dropout(0.5) and L2(1e-5).\n",
        "Best validation accuracy = 0.8966; test accuracy = 0.8709.\n",
        "This is the best validation so far compared to my earlier runs, so the extra capacity + regularization helped validation."
      ],
      "metadata": {
        "id": "w9Du9ZvZYg9T"
      }
    },
    {
      "cell_type": "markdown",
      "source": [
        "The best-validation model is the 3×32 network with ReLU, Dropout(0.5) between layers, and L2=1e-5 on the dense kernels (binary_crossentropy, Adam, batch size 512, 20 epochs, validation_split 0.2). It reached best validation accuracy = 0.8966 and test accuracy = 0.8709. Compared to the baseline 2×16 (~0.88 test), this setup improves validation (the metric I’m optimizing for) by adding a bit of capacity and taming overfitting with dropout and light L2. Test is slightly lower than baseline, which is expected given the stronger regularization and my focus on validation."
      ],
      "metadata": {
        "id": "1sz2nENucC_l"
      }
    },
    {
      "cell_type": "code",
      "source": [
        "import pandas as pd\n",
        "import numpy as np\n",
        "import matplotlib.pyplot as plt\n",
        "from IPython.display import display\n",
        "\n",
        "#All the results from our models\n",
        "rows = [\n",
        "    {\"Variant\": \"Baseline (2×16, ReLU, BCE)\",   \"Best_Val_Acc\": np.nan,  \"Test_Acc\": 0.8820, \"Notes\": \"Reference (4-epoch test)\"},\n",
        "    {\"Variant\": \"1×16 (ReLU, BCE)\",             \"Best_Val_Acc\": 0.8944,  \"Test_Acc\": 0.8602, \"Notes\": \"Layers=1\"},\n",
        "    {\"Variant\": \"3×16 (ReLU, BCE)\",             \"Best_Val_Acc\": 0.8882,  \"Test_Acc\": 0.8548, \"Notes\": \"Layers=3\"},\n",
        "    {\"Variant\": \"2×32 (ReLU, BCE)\",             \"Best_Val_Acc\": 0.8896,  \"Test_Acc\": 0.8542, \"Notes\": \"Units=32\"},\n",
        "    {\"Variant\": \"2×64 (ReLU, BCE)\",             \"Best_Val_Acc\": 0.8896,  \"Test_Acc\": 0.8594, \"Notes\": \"Units=64\"},\n",
        "    {\"Variant\": \"2×16 (ReLU, MSE)\",             \"Best_Val_Acc\": 0.8896,  \"Test_Acc\": 0.8604, \"Notes\": \"Loss=MSE\"},\n",
        "    {\"Variant\": \"2×16 (tanh, BCE)\",             \"Best_Val_Acc\": 0.8924,  \"Test_Acc\": 0.8500, \"Notes\": \"Activation=tanh\"},\n",
        "    {\"Variant\": \"2×16 + Dropout(0.5)\",          \"Best_Val_Acc\": 0.8944,  \"Test_Acc\": 0.8763, \"Notes\": \"Regularization: Dropout\"},\n",
        "    {\"Variant\": \"2×16 + L2(1e-4)\",              \"Best_Val_Acc\": 0.8920,  \"Test_Acc\": 0.8567, \"Notes\": \"Regularization: L2\"},\n",
        "    {\"Variant\": \"Chosen: 3×32 + Dropout + L2\",  \"Best_Val_Acc\": 0.8966,  \"Test_Acc\": 0.8709, \"Notes\": \"Highest validation\"},\n",
        "]\n",
        "\n",
        "df = pd.DataFrame(rows)\n",
        "\n",
        "#Sort by validation accuracy (desc), then test accuracy (desc)\n",
        "df_sorted = df.sort_values(\n",
        "    by=[\"Best_Val_Acc\", \"Test_Acc\"],\n",
        "    ascending=[False, False],\n",
        "    na_position=\"last\"\n",
        ").reset_index(drop=True)\n",
        "\n",
        "#Shows the table\n",
        "display(df_sorted)\n",
        "\n",
        "#Chart: Best Validation Accuracy by variant\n",
        "plot_df = df_sorted[df_sorted[\"Best_Val_Acc\"].notna()].copy()\n",
        "\n",
        "plt.figure(figsize=(10, 5))\n",
        "bars = plt.bar(range(len(plot_df)), plot_df[\"Best_Val_Acc\"])\n",
        "plt.xticks(range(len(plot_df)), plot_df[\"Variant\"], rotation=45, ha=\"right\")\n",
        "plt.ylabel(\"Best validation accuracy\")\n",
        "plt.title(\"IMDB — Hyperparameter Tuning (Validation Accuracy)\")\n",
        "\n",
        "#Annotates each bar with val and test\n",
        "for i, rect in enumerate(bars):\n",
        "    va = plot_df.iloc[i][\"Best_Val_Acc\"]\n",
        "    ta = plot_df.iloc[i][\"Test_Acc\"]\n",
        "    plt.text(rect.get_x() + rect.get_width()/2, rect.get_height() + 0.002,\n",
        "             f\"val={va:.4f}\\ntest={ta:.4f}\", ha=\"center\", va=\"bottom\", fontsize=8)\n",
        "\n",
        "#provides a dashed line at baseline test accuracy for context\n",
        "baseline_test = float(df.loc[df[\"Variant\"].str.startswith(\"Baseline\"), \"Test_Acc\"].values[0])\n",
        "plt.axhline(y=baseline_test, linestyle=\"--\")\n",
        "plt.text(len(plot_df)-0.5, baseline_test + 0.002, f\"baseline test ≈ {baseline_test:.3f}\", fontsize=8)\n",
        "\n",
        "plt.tight_layout()\n",
        "plt.savefig(\"imdb_hyperparam_summary.png\", dpi=150, bbox_inches=\"tight\")\n",
        "plt.show()"
      ],
      "metadata": {
        "colab": {
          "base_uri": "https://localhost:8080/",
          "height": 852
        },
        "id": "DhdIVWZ1eER7",
        "outputId": "e052e34a-dc06-4365-957b-31fe26be94e7"
      },
      "execution_count": 36,
      "outputs": [
        {
          "output_type": "display_data",
          "data": {
            "text/plain": [
              "                       Variant  Best_Val_Acc  Test_Acc  \\\n",
              "0  Chosen: 3×32 + Dropout + L2        0.8966    0.8709   \n",
              "1          2×16 + Dropout(0.5)        0.8944    0.8763   \n",
              "2             1×16 (ReLU, BCE)        0.8944    0.8602   \n",
              "3             2×16 (tanh, BCE)        0.8924    0.8500   \n",
              "4              2×16 + L2(1e-4)        0.8920    0.8567   \n",
              "5             2×16 (ReLU, MSE)        0.8896    0.8604   \n",
              "6             2×64 (ReLU, BCE)        0.8896    0.8594   \n",
              "7             2×32 (ReLU, BCE)        0.8896    0.8542   \n",
              "8             3×16 (ReLU, BCE)        0.8882    0.8548   \n",
              "9   Baseline (2×16, ReLU, BCE)           NaN    0.8820   \n",
              "\n",
              "                      Notes  \n",
              "0        Highest validation  \n",
              "1   Regularization: Dropout  \n",
              "2                  Layers=1  \n",
              "3           Activation=tanh  \n",
              "4        Regularization: L2  \n",
              "5                  Loss=MSE  \n",
              "6                  Units=64  \n",
              "7                  Units=32  \n",
              "8                  Layers=3  \n",
              "9  Reference (4-epoch test)  "
            ],
            "text/html": [
              "\n",
              "  <div id=\"df-b84ba174-7fb4-41ae-8a88-89298104f06f\" class=\"colab-df-container\">\n",
              "    <div>\n",
              "<style scoped>\n",
              "    .dataframe tbody tr th:only-of-type {\n",
              "        vertical-align: middle;\n",
              "    }\n",
              "\n",
              "    .dataframe tbody tr th {\n",
              "        vertical-align: top;\n",
              "    }\n",
              "\n",
              "    .dataframe thead th {\n",
              "        text-align: right;\n",
              "    }\n",
              "</style>\n",
              "<table border=\"1\" class=\"dataframe\">\n",
              "  <thead>\n",
              "    <tr style=\"text-align: right;\">\n",
              "      <th></th>\n",
              "      <th>Variant</th>\n",
              "      <th>Best_Val_Acc</th>\n",
              "      <th>Test_Acc</th>\n",
              "      <th>Notes</th>\n",
              "    </tr>\n",
              "  </thead>\n",
              "  <tbody>\n",
              "    <tr>\n",
              "      <th>0</th>\n",
              "      <td>Chosen: 3×32 + Dropout + L2</td>\n",
              "      <td>0.8966</td>\n",
              "      <td>0.8709</td>\n",
              "      <td>Highest validation</td>\n",
              "    </tr>\n",
              "    <tr>\n",
              "      <th>1</th>\n",
              "      <td>2×16 + Dropout(0.5)</td>\n",
              "      <td>0.8944</td>\n",
              "      <td>0.8763</td>\n",
              "      <td>Regularization: Dropout</td>\n",
              "    </tr>\n",
              "    <tr>\n",
              "      <th>2</th>\n",
              "      <td>1×16 (ReLU, BCE)</td>\n",
              "      <td>0.8944</td>\n",
              "      <td>0.8602</td>\n",
              "      <td>Layers=1</td>\n",
              "    </tr>\n",
              "    <tr>\n",
              "      <th>3</th>\n",
              "      <td>2×16 (tanh, BCE)</td>\n",
              "      <td>0.8924</td>\n",
              "      <td>0.8500</td>\n",
              "      <td>Activation=tanh</td>\n",
              "    </tr>\n",
              "    <tr>\n",
              "      <th>4</th>\n",
              "      <td>2×16 + L2(1e-4)</td>\n",
              "      <td>0.8920</td>\n",
              "      <td>0.8567</td>\n",
              "      <td>Regularization: L2</td>\n",
              "    </tr>\n",
              "    <tr>\n",
              "      <th>5</th>\n",
              "      <td>2×16 (ReLU, MSE)</td>\n",
              "      <td>0.8896</td>\n",
              "      <td>0.8604</td>\n",
              "      <td>Loss=MSE</td>\n",
              "    </tr>\n",
              "    <tr>\n",
              "      <th>6</th>\n",
              "      <td>2×64 (ReLU, BCE)</td>\n",
              "      <td>0.8896</td>\n",
              "      <td>0.8594</td>\n",
              "      <td>Units=64</td>\n",
              "    </tr>\n",
              "    <tr>\n",
              "      <th>7</th>\n",
              "      <td>2×32 (ReLU, BCE)</td>\n",
              "      <td>0.8896</td>\n",
              "      <td>0.8542</td>\n",
              "      <td>Units=32</td>\n",
              "    </tr>\n",
              "    <tr>\n",
              "      <th>8</th>\n",
              "      <td>3×16 (ReLU, BCE)</td>\n",
              "      <td>0.8882</td>\n",
              "      <td>0.8548</td>\n",
              "      <td>Layers=3</td>\n",
              "    </tr>\n",
              "    <tr>\n",
              "      <th>9</th>\n",
              "      <td>Baseline (2×16, ReLU, BCE)</td>\n",
              "      <td>NaN</td>\n",
              "      <td>0.8820</td>\n",
              "      <td>Reference (4-epoch test)</td>\n",
              "    </tr>\n",
              "  </tbody>\n",
              "</table>\n",
              "</div>\n",
              "    <div class=\"colab-df-buttons\">\n",
              "\n",
              "  <div class=\"colab-df-container\">\n",
              "    <button class=\"colab-df-convert\" onclick=\"convertToInteractive('df-b84ba174-7fb4-41ae-8a88-89298104f06f')\"\n",
              "            title=\"Convert this dataframe to an interactive table.\"\n",
              "            style=\"display:none;\">\n",
              "\n",
              "  <svg xmlns=\"http://www.w3.org/2000/svg\" height=\"24px\" viewBox=\"0 -960 960 960\">\n",
              "    <path d=\"M120-120v-720h720v720H120Zm60-500h600v-160H180v160Zm220 220h160v-160H400v160Zm0 220h160v-160H400v160ZM180-400h160v-160H180v160Zm440 0h160v-160H620v160ZM180-180h160v-160H180v160Zm440 0h160v-160H620v160Z\"/>\n",
              "  </svg>\n",
              "    </button>\n",
              "\n",
              "  <style>\n",
              "    .colab-df-container {\n",
              "      display:flex;\n",
              "      gap: 12px;\n",
              "    }\n",
              "\n",
              "    .colab-df-convert {\n",
              "      background-color: #E8F0FE;\n",
              "      border: none;\n",
              "      border-radius: 50%;\n",
              "      cursor: pointer;\n",
              "      display: none;\n",
              "      fill: #1967D2;\n",
              "      height: 32px;\n",
              "      padding: 0 0 0 0;\n",
              "      width: 32px;\n",
              "    }\n",
              "\n",
              "    .colab-df-convert:hover {\n",
              "      background-color: #E2EBFA;\n",
              "      box-shadow: 0px 1px 2px rgba(60, 64, 67, 0.3), 0px 1px 3px 1px rgba(60, 64, 67, 0.15);\n",
              "      fill: #174EA6;\n",
              "    }\n",
              "\n",
              "    .colab-df-buttons div {\n",
              "      margin-bottom: 4px;\n",
              "    }\n",
              "\n",
              "    [theme=dark] .colab-df-convert {\n",
              "      background-color: #3B4455;\n",
              "      fill: #D2E3FC;\n",
              "    }\n",
              "\n",
              "    [theme=dark] .colab-df-convert:hover {\n",
              "      background-color: #434B5C;\n",
              "      box-shadow: 0px 1px 3px 1px rgba(0, 0, 0, 0.15);\n",
              "      filter: drop-shadow(0px 1px 2px rgba(0, 0, 0, 0.3));\n",
              "      fill: #FFFFFF;\n",
              "    }\n",
              "  </style>\n",
              "\n",
              "    <script>\n",
              "      const buttonEl =\n",
              "        document.querySelector('#df-b84ba174-7fb4-41ae-8a88-89298104f06f button.colab-df-convert');\n",
              "      buttonEl.style.display =\n",
              "        google.colab.kernel.accessAllowed ? 'block' : 'none';\n",
              "\n",
              "      async function convertToInteractive(key) {\n",
              "        const element = document.querySelector('#df-b84ba174-7fb4-41ae-8a88-89298104f06f');\n",
              "        const dataTable =\n",
              "          await google.colab.kernel.invokeFunction('convertToInteractive',\n",
              "                                                    [key], {});\n",
              "        if (!dataTable) return;\n",
              "\n",
              "        const docLinkHtml = 'Like what you see? Visit the ' +\n",
              "          '<a target=\"_blank\" href=https://colab.research.google.com/notebooks/data_table.ipynb>data table notebook</a>'\n",
              "          + ' to learn more about interactive tables.';\n",
              "        element.innerHTML = '';\n",
              "        dataTable['output_type'] = 'display_data';\n",
              "        await google.colab.output.renderOutput(dataTable, element);\n",
              "        const docLink = document.createElement('div');\n",
              "        docLink.innerHTML = docLinkHtml;\n",
              "        element.appendChild(docLink);\n",
              "      }\n",
              "    </script>\n",
              "  </div>\n",
              "\n",
              "\n",
              "    <div id=\"df-42f4b3a9-5d74-4bf3-9052-26a17d69a690\">\n",
              "      <button class=\"colab-df-quickchart\" onclick=\"quickchart('df-42f4b3a9-5d74-4bf3-9052-26a17d69a690')\"\n",
              "                title=\"Suggest charts\"\n",
              "                style=\"display:none;\">\n",
              "\n",
              "<svg xmlns=\"http://www.w3.org/2000/svg\" height=\"24px\"viewBox=\"0 0 24 24\"\n",
              "     width=\"24px\">\n",
              "    <g>\n",
              "        <path d=\"M19 3H5c-1.1 0-2 .9-2 2v14c0 1.1.9 2 2 2h14c1.1 0 2-.9 2-2V5c0-1.1-.9-2-2-2zM9 17H7v-7h2v7zm4 0h-2V7h2v10zm4 0h-2v-4h2v4z\"/>\n",
              "    </g>\n",
              "</svg>\n",
              "      </button>\n",
              "\n",
              "<style>\n",
              "  .colab-df-quickchart {\n",
              "      --bg-color: #E8F0FE;\n",
              "      --fill-color: #1967D2;\n",
              "      --hover-bg-color: #E2EBFA;\n",
              "      --hover-fill-color: #174EA6;\n",
              "      --disabled-fill-color: #AAA;\n",
              "      --disabled-bg-color: #DDD;\n",
              "  }\n",
              "\n",
              "  [theme=dark] .colab-df-quickchart {\n",
              "      --bg-color: #3B4455;\n",
              "      --fill-color: #D2E3FC;\n",
              "      --hover-bg-color: #434B5C;\n",
              "      --hover-fill-color: #FFFFFF;\n",
              "      --disabled-bg-color: #3B4455;\n",
              "      --disabled-fill-color: #666;\n",
              "  }\n",
              "\n",
              "  .colab-df-quickchart {\n",
              "    background-color: var(--bg-color);\n",
              "    border: none;\n",
              "    border-radius: 50%;\n",
              "    cursor: pointer;\n",
              "    display: none;\n",
              "    fill: var(--fill-color);\n",
              "    height: 32px;\n",
              "    padding: 0;\n",
              "    width: 32px;\n",
              "  }\n",
              "\n",
              "  .colab-df-quickchart:hover {\n",
              "    background-color: var(--hover-bg-color);\n",
              "    box-shadow: 0 1px 2px rgba(60, 64, 67, 0.3), 0 1px 3px 1px rgba(60, 64, 67, 0.15);\n",
              "    fill: var(--button-hover-fill-color);\n",
              "  }\n",
              "\n",
              "  .colab-df-quickchart-complete:disabled,\n",
              "  .colab-df-quickchart-complete:disabled:hover {\n",
              "    background-color: var(--disabled-bg-color);\n",
              "    fill: var(--disabled-fill-color);\n",
              "    box-shadow: none;\n",
              "  }\n",
              "\n",
              "  .colab-df-spinner {\n",
              "    border: 2px solid var(--fill-color);\n",
              "    border-color: transparent;\n",
              "    border-bottom-color: var(--fill-color);\n",
              "    animation:\n",
              "      spin 1s steps(1) infinite;\n",
              "  }\n",
              "\n",
              "  @keyframes spin {\n",
              "    0% {\n",
              "      border-color: transparent;\n",
              "      border-bottom-color: var(--fill-color);\n",
              "      border-left-color: var(--fill-color);\n",
              "    }\n",
              "    20% {\n",
              "      border-color: transparent;\n",
              "      border-left-color: var(--fill-color);\n",
              "      border-top-color: var(--fill-color);\n",
              "    }\n",
              "    30% {\n",
              "      border-color: transparent;\n",
              "      border-left-color: var(--fill-color);\n",
              "      border-top-color: var(--fill-color);\n",
              "      border-right-color: var(--fill-color);\n",
              "    }\n",
              "    40% {\n",
              "      border-color: transparent;\n",
              "      border-right-color: var(--fill-color);\n",
              "      border-top-color: var(--fill-color);\n",
              "    }\n",
              "    60% {\n",
              "      border-color: transparent;\n",
              "      border-right-color: var(--fill-color);\n",
              "    }\n",
              "    80% {\n",
              "      border-color: transparent;\n",
              "      border-right-color: var(--fill-color);\n",
              "      border-bottom-color: var(--fill-color);\n",
              "    }\n",
              "    90% {\n",
              "      border-color: transparent;\n",
              "      border-bottom-color: var(--fill-color);\n",
              "    }\n",
              "  }\n",
              "</style>\n",
              "\n",
              "      <script>\n",
              "        async function quickchart(key) {\n",
              "          const quickchartButtonEl =\n",
              "            document.querySelector('#' + key + ' button');\n",
              "          quickchartButtonEl.disabled = true;  // To prevent multiple clicks.\n",
              "          quickchartButtonEl.classList.add('colab-df-spinner');\n",
              "          try {\n",
              "            const charts = await google.colab.kernel.invokeFunction(\n",
              "                'suggestCharts', [key], {});\n",
              "          } catch (error) {\n",
              "            console.error('Error during call to suggestCharts:', error);\n",
              "          }\n",
              "          quickchartButtonEl.classList.remove('colab-df-spinner');\n",
              "          quickchartButtonEl.classList.add('colab-df-quickchart-complete');\n",
              "        }\n",
              "        (() => {\n",
              "          let quickchartButtonEl =\n",
              "            document.querySelector('#df-42f4b3a9-5d74-4bf3-9052-26a17d69a690 button');\n",
              "          quickchartButtonEl.style.display =\n",
              "            google.colab.kernel.accessAllowed ? 'block' : 'none';\n",
              "        })();\n",
              "      </script>\n",
              "    </div>\n",
              "\n",
              "  <div id=\"id_f2ffbd7d-c45c-4d6f-8ef3-068a08ae3baf\">\n",
              "    <style>\n",
              "      .colab-df-generate {\n",
              "        background-color: #E8F0FE;\n",
              "        border: none;\n",
              "        border-radius: 50%;\n",
              "        cursor: pointer;\n",
              "        display: none;\n",
              "        fill: #1967D2;\n",
              "        height: 32px;\n",
              "        padding: 0 0 0 0;\n",
              "        width: 32px;\n",
              "      }\n",
              "\n",
              "      .colab-df-generate:hover {\n",
              "        background-color: #E2EBFA;\n",
              "        box-shadow: 0px 1px 2px rgba(60, 64, 67, 0.3), 0px 1px 3px 1px rgba(60, 64, 67, 0.15);\n",
              "        fill: #174EA6;\n",
              "      }\n",
              "\n",
              "      [theme=dark] .colab-df-generate {\n",
              "        background-color: #3B4455;\n",
              "        fill: #D2E3FC;\n",
              "      }\n",
              "\n",
              "      [theme=dark] .colab-df-generate:hover {\n",
              "        background-color: #434B5C;\n",
              "        box-shadow: 0px 1px 3px 1px rgba(0, 0, 0, 0.15);\n",
              "        filter: drop-shadow(0px 1px 2px rgba(0, 0, 0, 0.3));\n",
              "        fill: #FFFFFF;\n",
              "      }\n",
              "    </style>\n",
              "    <button class=\"colab-df-generate\" onclick=\"generateWithVariable('df_sorted')\"\n",
              "            title=\"Generate code using this dataframe.\"\n",
              "            style=\"display:none;\">\n",
              "\n",
              "  <svg xmlns=\"http://www.w3.org/2000/svg\" height=\"24px\"viewBox=\"0 0 24 24\"\n",
              "       width=\"24px\">\n",
              "    <path d=\"M7,19H8.4L18.45,9,17,7.55,7,17.6ZM5,21V16.75L18.45,3.32a2,2,0,0,1,2.83,0l1.4,1.43a1.91,1.91,0,0,1,.58,1.4,1.91,1.91,0,0,1-.58,1.4L9.25,21ZM18.45,9,17,7.55Zm-12,3A5.31,5.31,0,0,0,4.9,8.1,5.31,5.31,0,0,0,1,6.5,5.31,5.31,0,0,0,4.9,4.9,5.31,5.31,0,0,0,6.5,1,5.31,5.31,0,0,0,8.1,4.9,5.31,5.31,0,0,0,12,6.5,5.46,5.46,0,0,0,6.5,12Z\"/>\n",
              "  </svg>\n",
              "    </button>\n",
              "    <script>\n",
              "      (() => {\n",
              "      const buttonEl =\n",
              "        document.querySelector('#id_f2ffbd7d-c45c-4d6f-8ef3-068a08ae3baf button.colab-df-generate');\n",
              "      buttonEl.style.display =\n",
              "        google.colab.kernel.accessAllowed ? 'block' : 'none';\n",
              "\n",
              "      buttonEl.onclick = () => {\n",
              "        google.colab.notebook.generateWithVariable('df_sorted');\n",
              "      }\n",
              "      })();\n",
              "    </script>\n",
              "  </div>\n",
              "\n",
              "    </div>\n",
              "  </div>\n"
            ],
            "application/vnd.google.colaboratory.intrinsic+json": {
              "type": "dataframe",
              "variable_name": "df_sorted",
              "summary": "{\n  \"name\": \"df_sorted\",\n  \"rows\": 10,\n  \"fields\": [\n    {\n      \"column\": \"Variant\",\n      \"properties\": {\n        \"dtype\": \"string\",\n        \"num_unique_values\": 10,\n        \"samples\": [\n          \"3\\u00d716 (ReLU, BCE)\",\n          \"2\\u00d716 + Dropout(0.5)\",\n          \"2\\u00d716 (ReLU, MSE)\"\n        ],\n        \"semantic_type\": \"\",\n        \"description\": \"\"\n      }\n    },\n    {\n      \"column\": \"Best_Val_Acc\",\n      \"properties\": {\n        \"dtype\": \"number\",\n        \"std\": 0.0028372521918222223,\n        \"min\": 0.8882,\n        \"max\": 0.8966,\n        \"num_unique_values\": 6,\n        \"samples\": [\n          0.8966,\n          0.8944,\n          0.8882\n        ],\n        \"semantic_type\": \"\",\n        \"description\": \"\"\n      }\n    },\n    {\n      \"column\": \"Test_Acc\",\n      \"properties\": {\n        \"dtype\": \"number\",\n        \"std\": 0.010427682175611009,\n        \"min\": 0.85,\n        \"max\": 0.882,\n        \"num_unique_values\": 10,\n        \"samples\": [\n          0.8548,\n          0.8763,\n          0.8604\n        ],\n        \"semantic_type\": \"\",\n        \"description\": \"\"\n      }\n    },\n    {\n      \"column\": \"Notes\",\n      \"properties\": {\n        \"dtype\": \"string\",\n        \"num_unique_values\": 10,\n        \"samples\": [\n          \"Layers=3\",\n          \"Regularization: Dropout\",\n          \"Loss=MSE\"\n        ],\n        \"semantic_type\": \"\",\n        \"description\": \"\"\n      }\n    }\n  ]\n}"
            }
          },
          "metadata": {}
        },
        {
          "output_type": "display_data",
          "data": {
            "text/plain": [
              "<Figure size 1000x500 with 1 Axes>"
            ],
            "image/png": "[encoded data removed]"
          },
          "metadata": {}
        }
      ]
    }
  ]
}